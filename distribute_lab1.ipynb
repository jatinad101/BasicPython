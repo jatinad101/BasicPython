{
  "nbformat": 4,
  "nbformat_minor": 0,
  "metadata": {
    "kernelspec": {
      "display_name": "Python 3",
      "language": "python",
      "name": "python3"
    },
    "language_info": {
      "codemirror_mode": {
        "name": "ipython",
        "version": 3
      },
      "file_extension": ".py",
      "mimetype": "text/x-python",
      "name": "python",
      "nbconvert_exporter": "python",
      "pygments_lexer": "ipython3",
      "version": "3.7.6"
    },
    "colab": {
      "name": "distribute_lab1.ipynb",
      "provenance": []
    }
  },
  "cells": [
    {
      "cell_type": "markdown",
      "metadata": {
        "id": "dUt62_-03R8P"
      },
      "source": [
        "# Lab 1: Dictionaries and Classes"
      ]
    },
    {
      "cell_type": "markdown",
      "metadata": {
        "id": "B45WtJ8u3R8W"
      },
      "source": [
        "## EXERCISE 1: Count words in Julius Caesar and make a text based histogram\n",
        "\n",
        "Building on the first lab, using lowercase words, lets make a histogram. Create a dictionary `worddict`, that has the counts of all the words in Caesar."
      ]
    },
    {
      "cell_type": "code",
      "metadata": {
        "id": "c95lj4L33R8W",
        "outputId": "060d349c-2794-49c0-dce1-d44b44cb741e",
        "colab": {
          "base_uri": "https://localhost:8080/"
        }
      },
      "source": [
        "# your code here\n",
        "!wget https://raw.githubusercontent.com/rahuldavehey/BasicPython/main/data/Julius%20Caesar.txt"
      ],
      "execution_count": 1,
      "outputs": [
        {
          "output_type": "stream",
          "text": [
            "--2020-12-19 07:22:03--  https://raw.githubusercontent.com/rahuldavehey/BasicPython/main/data/Julius%20Caesar.txt\n",
            "Resolving raw.githubusercontent.com (raw.githubusercontent.com)... 151.101.0.133, 151.101.64.133, 151.101.128.133, ...\n",
            "Connecting to raw.githubusercontent.com (raw.githubusercontent.com)|151.101.0.133|:443... connected.\n",
            "HTTP request sent, awaiting response... 200 OK\n",
            "Length: 120873 (118K) [text/plain]\n",
            "Saving to: ‘Julius Caesar.txt’\n",
            "\n",
            "Julius Caesar.txt   100%[===================>] 118.04K  --.-KB/s    in 0.04s   \n",
            "\n",
            "2020-12-19 07:22:04 (2.98 MB/s) - ‘Julius Caesar.txt’ saved [120873/120873]\n",
            "\n"
          ],
          "name": "stdout"
        }
      ]
    },
    {
      "cell_type": "code",
      "metadata": {
        "id": "3pV18qwu4aDG",
        "outputId": "33dcf61d-806a-42d9-ffc9-931649b94111",
        "colab": {
          "base_uri": "https://localhost:8080/"
        }
      },
      "source": [
        "fh = open(\"Julius Caesar.txt\")\n",
        "l = fh.readlines()\n",
        "worddict = {}\n",
        "for line in l:\n",
        "    line = line.strip().split()\n",
        "    words = [word.lower() for word in line]\n",
        "    for word in words:\n",
        "        if word in worddict:\n",
        "           worddict[word] += 1\n",
        "        else:\n",
        "           worddict[word] = 1\n",
        "print(worddict)"
      ],
      "execution_count": 12,
      "outputs": [
        {
          "output_type": "stream",
          "text": [
            "{'the': 629, 'tragedy': 1, 'of': 374, 'julius': 4, 'caesar': 96, 'by': 97, 'william': 1, 'shakespeare': 1, 'contents': 1, 'act': 12, 'i': 499, 'scene': 37, 'i.': 13, 'rome.': 13, 'a': 275, 'street.': 6, 'ii.': 10, 'same.': 10, 'public': 5, 'place.': 5, 'iii.': 10, 'ii': 2, 'brutusâ€™': 13, 'orchard.': 2, 'room': 7, 'in': 228, 'caesarâ€™s': 40, 'palace.': 2, 'street': 5, 'near': 10, 'capitol.': 9, 'iv.': 4, 'another': 14, 'part': 13, 'same': 7, 'street,': 2, 'before': 16, 'house': 6, 'brutus.': 215, 'iii': 2, 'capitol;': 5, 'senate': 5, 'sitting.': 2, 'forum.': 2, 'iv': 2, 'antonyâ€™s': 2, 'house.': 5, 'tent,': 4, 'camp': 3, 'sardis.': 2, 'within': 8, 'tent': 6, 'v': 2, 'plains': 3, 'philippi.': 7, 'field': 3, 'battle.': 2, 'field.': 10, 'v.': 2, 'dramatis': 1, 'personã¦': 1, 'octavius': 10, 'caesar,': 41, 'triumvir': 1, 'after': 11, 'his': 157, 'death.': 11, 'marcus': 8, 'antonius,': 2, 'â€\\x9d': 26, 'm.': 1, 'aemilius': 1, 'lepidus,': 4, 'cicero,': 3, 'publius,': 3, 'popilius': 4, 'lena,': 1, 'senators.': 3, 'brutus,': 52, 'conspirator': 1, 'against': 9, 'caesar.': 61, 'cassius,': 35, 'casca,': 17, 'trebonius,': 3, 'ligarius,â€\\x9d': 1, 'decius': 6, 'metellus': 9, 'cimber,': 2, 'cinna,': 7, 'flavius,': 4, 'tribune': 2, 'marullus,': 1, 'artemidorus,': 3, 'sophist': 1, 'cnidos.': 1, 'soothsayer': 2, 'poet.': 6, 'lucilius,': 8, 'titinius,': 9, 'messala,': 10, 'young': 12, 'cato,': 6, 'and': 627, 'volumnius,': 3, 'friends': 6, 'to': 422, 'brutus': 69, 'cassius.': 150, 'varro,': 1, 'clitus,': 3, 'claudius,': 1, 'strato,': 5, 'lucius,': 11, 'dardanius,': 2, 'servants': 2, 'pindarus,': 4, 'servant': 1, 'cassius': 25, 'calphurnia,': 2, 'wife': 3, 'portia,': 6, 'ghost': 3, 'senators,': 4, 'citizens,': 3, 'soldiers,': 2, 'commoners,': 1, 'messengers,': 1, 'servants.': 1, 'scene:': 1, 'rome,': 15, 'conspiratorsâ€™': 1, 'sardis,': 2, 'enter': 54, 'marullus': 2, 'throng': 3, 'citizens.': 17, 'flavius.': 5, 'hence!': 5, 'home,': 1, 'you': 312, 'idle': 3, 'creatures,': 1, 'get': 11, 'home.': 3, 'is': 236, 'this': 142, 'holiday?': 2, 'what,': 16, 'know': 59, 'not,': 23, 'being': 10, 'mechanical,': 1, 'ought': 2, 'not': 207, 'walk': 8, 'upon': 44, 'labouring': 1, 'day': 15, 'without': 5, 'sign': 4, 'your': 133, 'profession?': 1, 'speak,': 5, 'what': 106, 'trade': 3, 'art': 22, 'thou?': 4, 'carpenter.': 2, 'why,': 20, 'sir,': 19, 'marullus.': 6, 'where': 26, 'thy': 54, 'leather': 2, 'apron': 1, 'rule?': 1, 'dost': 10, 'thou': 107, 'with': 156, 'best': 11, 'apparel': 1, 'on?': 2, 'you,': 34, 'are': 103, 'you?': 8, 'cobbler.': 7, 'truly,': 5, 'respect': 6, 'fine': 1, 'workman,': 1, 'am': 55, 'but,': 18, 'as': 135, 'would': 44, 'say,': 6, 'but': 126, 'answer': 9, 'me': 120, 'directly.': 4, 'trade,': 2, 'that': 269, 'hope': 1, 'may': 33, 'use': 7, 'safe': 2, 'conscience,': 1, 'which': 42, 'indeed,': 8, 'mender': 1, 'bad': 8, 'soles.': 1, 'knave?': 1, 'naughty': 1, 'knave,': 3, 'trade?': 1, 'nay,': 5, 'beseech': 3, 'be': 144, 'out': 14, 'me;': 6, 'yet,': 4, 'if': 84, 'out,': 8, 'can': 19, 'mend': 2, 'you.': 22, 'meanâ€™st': 1, 'that?': 5, 'me,': 35, 'saucy': 3, 'fellow!': 1, 'cobble': 1, 'cobbler,': 1, 'all': 88, 'live': 6, 'awl;': 1, 'meddle': 1, 'no': 71, 'tradesmanâ€™s': 1, 'matters,': 2, 'nor': 24, 'womenâ€™s': 1, 'withal': 4, 'surgeon': 1, 'old': 6, 'shoes:': 1, 'when': 65, 'they': 62, 'great': 26, 'danger,': 1, 'recover': 1, 'them.': 9, 'proper': 3, 'men': 36, 'ever': 13, 'trod': 1, 'neatâ€™s': 1, 'have': 144, 'gone': 3, 'my': 189, 'handiwork.': 1, 'wherefore': 6, 'shop': 1, 'today?': 1, 'why': 23, 'lead': 6, 'these': 36, 'about': 17, 'streets?': 1, 'wear': 4, 'their': 63, 'shoes,': 1, 'myself': 12, 'into': 15, 'more': 26, 'work.': 2, 'we': 92, 'make': 23, 'holiday': 1, 'see': 30, 'rejoice': 2, 'triumph.': 1, 'rejoice?': 1, 'conquest': 3, 'brings': 3, 'he': 185, 'home?': 2, 'tributaries': 1, 'follow': 10, 'him': 90, 'grace': 4, 'captive': 1, 'bonds': 1, 'chariot': 2, 'wheels?': 1, 'blocks,': 1, 'stones,': 2, 'worse': 3, 'than': 42, 'senseless': 1, 'things!': 1, 'o': 48, 'hard': 4, 'hearts,': 3, 'cruel': 2, 'knew': 3, 'pompey?': 1, 'many': 15, 'time': 19, 'oft': 3, 'climbâ€™d': 1, 'up': 27, 'walls': 3, 'battlements,': 1, 'towers': 1, 'windows,': 2, 'yea,': 4, 'chimney': 1, 'tops,': 1, 'infants': 2, 'arms,': 2, 'there': 41, 'sat': 1, 'livelong': 1, 'patient': 3, 'expectation,': 1, 'pompey': 2, 'pass': 5, 'streets': 3, 'saw': 8, 'appear,': 2, 'made': 11, 'an': 31, 'universal': 1, 'shout,': 1, 'tiber': 4, 'trembled': 1, 'underneath': 2, 'her': 9, 'banks': 1, 'hear': 33, 'replication': 1, 'sounds': 1, 'concave': 1, 'shores?': 1, 'do': 118, 'now': 36, 'put': 16, 'on': 67, 'attire?': 1, 'cull': 1, 'strew': 1, 'flowers': 1, 'way,': 3, 'comes': 16, 'triumph': 3, 'over': 6, 'pompeyâ€™s': 6, 'blood?': 1, 'gone!': 2, 'run': 12, 'houses,': 1, 'fall': 6, 'knees,': 2, 'pray': 6, 'gods': 9, 'intermit': 1, 'plague': 1, 'needs': 1, 'must': 36, 'light': 3, 'ingratitude.': 1, 'go,': 6, 'good': 64, 'countrymen,': 6, 'and,': 18, 'for': 168, 'fault': 2, 'assemble': 1, 'poor': 10, 'sort,': 1, 'draw': 2, 'them': 37, 'banks,': 1, 'weep': 4, 'tears': 2, 'channel,': 1, 'till': 23, 'lowest': 1, 'stream': 2, 'kiss': 3, 'most': 28, 'exalted': 2, 'shores': 1, 'all.': 5, '[_exeunt': 11, 'citizens._]': 1, 'whether': 6, 'basest': 1, 'metal': 2, 'movâ€™d;': 1, 'vanish': 1, 'tongue-tied': 1, 'guiltiness.': 1, 'go': 36, 'down': 11, 'way': 7, 'towards': 2, 'will': 132, 'disrobe': 1, 'images,': 2, 'find': 17, 'deckâ€™d': 1, 'ceremonies.': 3, 'so?': 7, 'it': 153, 'feast': 2, 'lupercal.': 1, 'matter;': 2, 'let': 63, 'images': 1, 'hung': 2, 'trophies.': 1, 'iâ€™ll': 13, 'drive': 1, 'away': 4, 'vulgar': 1, 'from': 49, 'streets;': 2, 'so': 98, 'too,': 3, 'perceive': 5, 'thick.': 2, 'growing': 2, 'feathers': 1, 'pluckâ€™d': 4, 'wing': 1, 'fly': 6, 'ordinary': 3, 'pitch,': 1, 'who': 24, 'else': 10, 'soar': 1, 'above': 2, 'view': 1, 'men,': 16, 'keep': 10, 'us': 43, 'servile': 1, 'fearfulness.': 1, '[_exeunt._]': 15, 'enter,': 2, 'procession,': 1, 'music,': 2, 'caesar;': 10, 'antony,': 22, 'course;': 1, 'decius,': 5, 'casca;': 4, 'crowd': 3, 'following,': 1, 'among': 2, 'soothsayer.': 12, 'calphurnia.': 9, 'casca.': 42, 'peace,': 8, 'ho!': 17, 'speaks.': 2, '[_music': 2, 'ceases._]': 2, 'here,': 13, 'lord.': 16, 'stand': 24, 'directly': 4, 'antoniusâ€™': 1, 'doth': 26, 'course.': 1, 'antonius.': 2, 'antony.': 71, 'lord?': 12, 'forget': 3, 'speed,': 2, 'touch': 2, 'calphurnia;': 1, 'our': 87, 'elders': 1, 'barren,': 1, 'touched': 1, 'holy': 2, 'chase,': 1, 'shake': 5, 'off': 10, 'sterile': 1, 'curse.': 1, 'shall': 123, 'remember.': 1, 'says': 8, 'â€œdo': 1, 'this,â€\\x9d': 1, 'performâ€™d.': 1, 'set': 12, 'on;': 2, 'leave': 16, 'ceremony': 1, 'out.': 3, '[_music._]': 1, 'caesar!': 11, 'ha!': 3, 'calls?': 1, 'bid': 17, 'every': 23, 'noise': 4, 'still;': 2, 'peace': 4, 'yet': 34, 'again!': 1, 'press': 5, 'calls': 2, 'me?': 7, 'tongue': 5, 'shriller': 1, 'cry': 8, 'â€œcaesarâ€\\x9d!': 1, 'speak.': 5, 'turnâ€™d': 3, 'hear.': 2, 'beware': 4, 'ides': 7, 'march.': 3, 'man': 35, 'bids': 2, 'face.': 1, 'fellow,': 3, 'come': 52, 'throng;': 1, 'look': 19, 'sayâ€™st': 1, 'now?': 2, 'speak': 27, 'once': 5, 'again.': 3, 'dreamer;': 1, 'him.': 28, 'pass.': 1, '[_sennet.': 1, 'exeunt': 1, 'cassius._]': 2, 'order': 3, 'course?': 1, 'do.': 4, 'gamesome:': 1, 'lack': 1, 'some': 42, 'quick': 2, 'spirit': 8, 'hinder,': 1, 'desires;': 1, 'observe': 2, 'late:': 1, 'eyes': 8, 'gentleness': 1, 'show': 12, 'love': 27, 'was': 61, 'wont': 1, 'have.': 1, 'bear': 22, 'too': 15, 'stubborn': 1, 'strange': 6, 'hand': 11, 'friend': 9, 'loves': 6, 'deceived:': 1, 'veilâ€™d': 1, 'look,': 11, 'turn': 8, 'trouble': 3, 'countenance': 1, 'merely': 1, 'myself.': 4, 'vexed': 1, 'late': 1, 'passions': 1, 'difference,': 1, 'conceptions': 1, 'only': 8, 'myself,': 3, 'give': 34, 'soil': 1, 'perhaps': 1, 'behaviors;': 1, 'therefore': 10, 'grieved': 1, '(among': 1, 'number,': 1, 'one)': 1, 'construe': 3, 'any': 14, 'further': 4, 'neglect,': 1, 'himself': 6, 'at': 60, 'war,': 3, 'forgets': 1, 'shows': 2, 'other': 12, 'men.': 6, 'then,': 15, 'much': 24, 'mistook': 1, 'passion;': 1, 'means': 6, 'whereof': 1, 'breast': 2, 'mine': 20, 'hath': 35, 'buried': 3, 'thoughts': 3, 'value,': 1, 'worthy': 8, 'cogitations.': 1, 'tell': 36, 'face?': 1, 'no,': 17, 'eye': 5, 'sees': 2, 'itself': 2, 'reflection,': 2, 'thing.': 1, 'â€™tis': 24, 'just:': 1, 'very': 12, 'lamented,': 1, 'such': 37, 'mirrors': 1, 'hidden': 1, 'worthiness': 1, 'eye,': 1, 'might': 11, 'shadow.': 1, 'heard': 7, '(except': 1, 'immortal': 2, 'caesar)': 1, 'speaking': 2, 'groaning': 2, 'ageâ€™s': 1, 'yoke,': 1, 'wishâ€™d': 2, 'noble': 35, 'had': 26, 'eyes.': 2, 'dangers': 3, 'seek': 7, 'therefore,': 3, 'prepared': 1, 'hear;': 2, 'since': 6, 'cannot': 5, 'yourself': 8, 'well': 29, 'i,': 11, 'glass,': 1, 'modestly': 1, 'discover': 2, 'of.': 3, 'jealous': 1, 'gentle': 9, 'brutus:': 1, 'were': 35, 'common': 9, 'laugher,': 1, 'or': 42, 'did': 71, 'stale': 1, 'oaths': 1, 'new': 3, 'protester;': 1, 'fawn': 2, 'hug': 1, 'hard,': 4, 'scandal': 1, 'them;': 3, 'profess': 1, 'banqueting,': 1, 'rout,': 1, 'then': 44, 'hold': 12, 'dangerous.': 4, '[_flourish': 1, 'shout._]': 1, 'shouting?': 1, 'fear': 21, 'people': 11, 'choose': 2, 'king.': 2, 'ay,': 15, 'it?': 4, 'think': 22, 'so.': 12, 'cassius;': 5, 'well,': 10, 'here': 39, 'long?': 1, 'impart': 1, 'aught': 2, 'toward': 3, 'general': 6, 'good,': 1, 'honour': 8, 'one': 25, 'death': 10, 'iâ€™': 2, 'other,': 1, 'both': 7, 'indifferently;': 1, 'speed': 2, 'name': 10, 'virtue': 6, 'outward': 1, 'favour.': 2, 'subject': 1, 'story.': 1, 'life;': 1, 'single': 1, 'self,': 2, 'lief': 1, 'awe': 2, 'thing': 6, 'born': 2, 'free': 4, 'you;': 11, 'fed': 1, 'endure': 5, 'winterâ€™s': 1, 'cold': 6, 'he:': 1, 'once,': 5, 'raw': 2, 'gusty': 1, 'day,': 4, 'troubled': 1, 'chafing': 1, 'shores,': 1, 'said': 5, 'â€œdarâ€™st': 1, 'thou,': 5, 'leap': 2, 'angry': 4, 'flood,': 3, 'swim': 2, 'yonder': 2, 'point?â€\\x9d': 1, 'word,': 6, 'accoutred': 1, 'was,': 3, 'plunged': 1, 'in,': 4, 'bade': 4, 'follow:': 1, 'indeed': 2, 'did.': 2, 'torrent': 1, 'roarâ€™d,': 1, 'buffet': 1, 'lusty': 2, 'sinews,': 1, 'throwing': 1, 'aside': 1, 'stemming': 1, 'hearts': 5, 'controversy.': 1, 'ere': 6, 'could': 17, 'arrive': 1, 'point': 4, 'proposâ€™d,': 1, 'cried,': 4, 'â€œhelp': 1, 'sink!â€\\x9d': 1, 'aeneas,': 1, 'ancestor,': 1, 'flames': 1, 'troy': 1, 'shoulder': 1, 'anchises': 1, 'bear,': 1, 'waves': 1, 'tired': 1, 'become': 3, 'god;': 1, 'wretched': 1, 'creature,': 1, 'bend': 2, 'body,': 4, 'carelessly': 1, 'nod': 1, 'fever': 1, 'spain,': 1, 'fit': 4, 'mark': 33, 'how': 32, 'shake:': 2, 'true,': 3, 'god': 1, 'coward': 3, 'lips': 3, 'colour': 2, 'fly,': 6, 'whose': 5, 'world': 7, 'lose': 4, 'lustre.': 1, 'groan:': 1, 'his,': 1, 'romans': 9, 'him,': 26, 'write': 4, 'speeches': 1, 'books,': 1, 'alas,': 7, 'â€œgive': 1, 'drink,': 1, 'titinius,â€\\x9d': 1, 'sick': 5, 'girl.': 1, 'ye': 8, 'gods,': 11, 'amaze': 1, 'feeble': 4, 'temper': 1, 'should': 39, 'start': 2, 'majestic': 1, 'world,': 5, 'palm': 1, 'alone.': 2, '[_shout.': 1, 'flourish._]': 1, 'shout?': 1, 'believe': 4, 'applauses': 1, 'honours': 5, 'heapâ€™d': 1, 'man,': 9, 'bestride': 1, 'narrow': 1, 'like': 37, 'colossus,': 1, 'petty': 1, 'under': 9, 'huge': 3, 'legs,': 1, 'peep': 1, 'ourselves': 3, 'dishonourable': 1, 'graves.': 1, 'masters': 2, 'fates:': 1, 'fault,': 2, 'dear': 8, 'stars,': 2, 'ourselves,': 2, 'underlings.': 1, 'â€œbrutusâ€\\x9d': 2, 'â€œcaesarâ€\\x9d:': 1, 'â€œcaesarâ€\\x9d?': 1, 'sounded': 1, 'yours?': 2, 'together,': 2, 'yours': 3, 'fair': 2, 'name;': 2, 'sound': 3, 'them,': 7, 'mouth': 1, 'well;': 2, 'weigh': 1, 'heavy;': 1, 'conjure': 1, 'â€™em,': 1, 'soon': 3, 'â€œcaesar.â€\\x9d': 1, 'names': 2, 'meat': 1, 'feed,': 1, 'grown': 3, 'great?': 1, 'age,': 1, 'shamâ€™d!': 1, 'hast': 13, 'lost': 2, 'breed': 2, 'bloods!': 1, 'went': 6, 'age': 2, 'famâ€™d': 1, 'man?': 2, 'now,': 22, 'talkâ€™d': 1, 'wide': 1, 'encompassâ€™d': 1, 'rome': 13, 'enough,': 2, 'man.': 7, 'o,': 22, 'fathers': 1, 'brookâ€™d': 1, 'thâ€™': 4, 'eternal': 1, 'devil': 1, 'state': 3, 'easily': 1, 'king!': 1, 'nothing': 6, 'jealous;': 1, 'work': 6, 'to,': 1, 'aim:': 1, 'thought': 6, 'this,': 12, 'times,': 1, 'recount': 1, 'hereafter.': 2, 'present,': 1, 'entreat': 3, 'movâ€™d.': 1, 'said,': 5, 'consider;': 1, 'say': 24, 'patience': 4, 'meet': 15, 'high': 5, 'things.': 3, 'friend,': 6, 'chew': 1, 'this:': 2, 'rather': 8, 'villager': 1, 'repute': 1, 'son': 4, 'conditions': 1, 'lay': 4, 'us.': 11, 'glad': 4, 'weak': 5, 'words': 5, 'struck': 4, 'thus': 12, 'fire': 9, 'train.': 2, 'games': 1, 'done,': 6, 'returning.': 1, 'by,': 2, 'pluck': 4, 'casca': 6, 'sleeve,': 1, 'will,': 13, 'sour': 1, 'fashion,': 2, 'proceeded': 1, 'note': 4, 'today.': 8, 'spot': 2, 'glow': 1, 'brow,': 1, 'rest': 5, 'chidden': 1, 'train:': 1, 'calphurniaâ€™s': 2, 'cheek': 1, 'pale;': 1, 'cicero': 5, 'looks': 5, 'ferret': 1, 'fiery': 2, 'seen': 7, 'capitol,': 5, 'crossâ€™d': 2, 'conference': 1, 'matter': 4, 'is.': 2, 'caesar?': 3, 'fat,': 1, 'sleek-headed': 1, 'sleep': 6, 'a-nights:': 1, 'yond': 2, 'has': 3, 'lean': 1, 'hungry': 1, 'look;': 1, 'thinks': 2, 'much:': 1, 'heâ€™s': 5, 'dangerous;': 1, 'roman': 10, 'given.': 1, 'fatter!': 1, 'not:': 1, 'liable': 1, 'fear,': 4, 'avoid': 1, 'spare': 1, 'reads': 1, 'much,': 2, 'observer,': 1, 'quite': 4, 'through': 5, 'deeds': 2, 'plays,': 1, 'dost,': 1, 'antony;': 6, 'hears': 1, 'music.': 1, 'seldom': 1, 'smiles;': 1, 'smiles': 2, 'sort': 2, 'mockâ€™d': 1, 'scornâ€™d': 1, 'movâ€™d': 4, 'smile': 4, 'anything.': 3, 'never': 14, 'heartâ€™s': 1, 'ease': 2, 'whiles': 1, 'behold': 4, 'greater': 3, 'themselves,': 1, 'thee': 31, 'fearâ€™d': 2, 'fear;': 2, 'always': 1, 'right': 6, 'hand,': 12, 'ear': 4, 'deaf,': 1, 'truly': 1, 'thinkâ€™st': 1, 'stays._]': 1, 'pullâ€™d': 1, 'cloak;': 1, 'chancâ€™d': 1, 'today,': 3, 'sad.': 1, 'not?': 7, 'ask': 2, 'chancâ€™d.': 3, 'crown': 6, 'offerâ€™d': 5, 'him;': 11, 'back': 4, 'thus;': 1, 'fell': 9, 'a-shouting.': 1, 'second': 23, 'for?': 3, 'too.': 8, 'shouted': 1, 'thrice:': 1, 'last': 6, 'thrice?': 1, 'marry,': 2, 'wasâ€™t,': 1, 'thrice,': 1, 'gentler': 1, 'other;': 1, 'putting-by': 1, 'honest': 4, 'neighbours': 1, 'shouted.': 1, 'crown?': 1, 'manner': 2, 'it,': 7, 'hangâ€™d,': 1, 'it:': 1, 'mere': 1, 'foolery;': 1, 'it.': 24, 'antony': 24, 'offer': 1, 'crown;': 2, 'â€™twas': 3, 'neither,': 1, 'coronets;': 1, 'told': 3, 'once:': 1, 'that,': 8, 'thinking,': 2, 'fain': 1, 'offered': 2, 'again:': 2, 'loath': 1, 'fingers': 3, 'third': 19, 'time;': 1, 'by;': 1, 'still,': 2, 'refusâ€™d': 2, 'rabblement': 1, 'hooted,': 1, 'clappâ€™d': 1, 'chopt': 1, 'hands,': 5, 'threw': 1, 'sweaty': 1, 'night-caps,': 1, 'uttered': 1, 'deal': 1, 'stinking': 1, 'breath': 1, 'because': 3, 'crown,': 3, 'had,': 1, 'almost,': 1, 'choked': 1, 'swooned,': 1, 'own': 9, 'part,': 7, 'durst': 7, 'laugh,': 1, 'opening': 1, 'receiving': 1, 'air.': 1, 'soft!': 1, 'swoon?': 1, 'market-place,': 2, 'foamâ€™d': 1, 'mouth,': 1, 'speechless.': 1, 'like:': 1, 'falling-sickness.': 2, 'not;': 6, 'mean': 8, 'that;': 1, 'sure': 7, 'down.': 3, 'tag-rag': 1, 'clap': 1, 'hiss': 1, 'according': 3, 'pleased': 1, 'displeased': 1, 'players': 1, 'theatre,': 1, 'true': 10, 'came': 6, 'unto': 13, 'himself?': 1, 'down,': 6, 'perceived': 1, 'herd': 1, 'refused': 1, 'ope': 2, 'doublet,': 1, 'throat': 1, 'cut.': 1, 'been': 8, 'occupation,': 1, 'taken': 4, 'hell': 1, 'rogues.': 1, 'fell.': 2, 'again,': 8, 'done': 13, 'anything': 3, 'amiss,': 1, 'desirâ€™d': 1, 'worships': 1, 'infirmity.': 1, 'three': 6, 'four': 1, 'wenches': 1, 'stood': 3, 'â€œalas,': 1, 'soul!â€\\x9d': 1, 'forgave': 1, 'hearts.': 2, 'thereâ€™s': 6, 'heed': 2, 'them:': 1, 'stabbâ€™d': 2, 'mothers,': 1, 'less.': 1, 'sad': 3, 'away?': 1, 'ay.': 2, 'anything?': 4, 'spoke': 3, 'greek.': 1, 'effect?': 1, 'neâ€™er': 3, 'face': 7, 'those': 9, 'understood': 1, 'smilâ€™d': 1, 'shook': 1, 'heads;': 1, 'greek': 1, 'me.': 18, 'news': 1, 'too:': 1, 'pulling': 1, 'scarfs': 1, 'silence.': 1, 'fare': 6, 'well.': 8, 'foolery': 1, 'remember': 6, 'sup': 1, 'tonight,': 2, 'casca?': 1, 'promisâ€™d': 1, 'forth.': 5, 'dine': 1, 'tomorrow?': 2, 'alive,': 1, 'mind': 4, 'hold,': 2, 'dinner': 1, 'worth': 2, 'eating.': 1, 'good.': 4, 'expect': 1, 'so;': 8, 'farewell': 5, 'both.': 1, '[_exit': 14, 'casca._]': 1, 'blunt': 2, 'fellow': 5, 'be!': 1, 'mettle': 2, 'school.': 1, 'execution': 1, 'bold': 2, 'enterprise,': 3, 'however': 1, 'puts': 1, 'tardy': 1, 'form.': 1, 'rudeness': 1, 'sauce': 1, 'wit,': 2, 'gives': 4, 'stomach': 1, 'digest': 2, 'better': 10, 'appetite.': 1, 'you:': 3, 'tomorrow,': 2, 'please': 8, 'home': 6, 'or,': 2, 'wait': 1, 'so:': 3, 'world.': 3, 'brutus._]': 6, 'noble;': 1, 'see,': 5, 'honourable': 12, 'wrought': 1, 'disposâ€™d:': 1, 'minds': 4, 'likes;': 1, 'firm': 1, 'seducâ€™d?': 1, 'humour': 4, 'night,': 12, 'several': 6, 'windows': 1, 'throw,': 1, 'writings,': 1, 'tending': 2, 'opinion': 3, 'holds': 2, 'wherein': 4, 'obscurely': 1, 'ambition': 2, 'glanced': 1, 'at.': 1, 'seat': 2, 'sure,': 3, 'days': 4, 'endure.': 2, '[_exit._]': 10, 'thunder': 2, 'lightning.': 2, 'opposite': 1, 'sides,': 1, 'sword': 5, 'drawn,': 1, 'cicero.': 6, 'even,': 1, 'casca:': 2, 'brought': 5, 'breathless,': 1, 'stare': 1, 'moved,': 1, 'sway': 1, 'earth': 4, 'shakes': 1, 'unfirm?': 1, 'tempests,': 1, 'scolding': 1, 'winds': 1, 'rivâ€™d': 2, 'knotty': 1, 'oaks;': 1, 'ambitious': 1, 'ocean': 1, 'swell': 2, 'rage': 1, 'foam,': 1, 'threatening': 1, 'clouds:': 1, 'tempest': 1, 'dropping': 1, 'fire.': 3, 'either': 3, 'civil': 2, 'strife': 2, 'heaven,': 3, 'incenses': 1, 'send': 11, 'destruction.': 1, 'wonderful?': 1, 'slave,': 1, 'youâ€™d': 1, 'sight,': 1, 'held': 4, 'left': 5, 'flame': 1, 'burn': 4, 'twenty': 2, 'torches': 1, 'joinâ€™d,': 1, 'sensible': 1, 'remainâ€™d': 1, 'unscorchâ€™d.': 1, 'besides,': 4, 'haâ€™': 1, 'sword,': 7, 'capitol': 3, 'met': 1, 'lion,': 2, 'glared': 1, 'surly': 1, 'annoying': 1, 'drawn': 1, 'heap': 1, 'hundred': 3, 'ghastly': 1, 'women,': 1, 'transformed': 1, 'swore': 2, 'fire,': 4, 'streets.': 3, 'yesterday': 2, 'bird': 1, 'night': 9, 'sit,': 1, 'even': 16, 'noonday': 1, 'marketplace,': 1, 'hooting': 1, 'shrieking.': 1, 'prodigies': 1, 'conjointly': 1, 'meet,': 2, 'â€œthese': 1, 'reasons;': 1, 'naturalâ€\\x9d;': 1, 'believe,': 1, 'portentous': 1, 'things': 12, 'climate': 1, 'upon.': 3, 'strange-disposed': 1, 'time.': 3, 'clean': 1, 'purpose': 3, 'themselves.': 1, 'doth,': 2, 'antonius': 1, 'word': 10, 'tomorrow.': 1, 'goodnight': 1, 'disturbed': 1, 'sky': 1, 'in.': 3, 'farewell,': 6, 'cicero._]': 1, 'whoâ€™s': 4, 'there?': 2, 'roman.': 2, 'voice.': 1, 'this!': 2, 'pleasing': 1, 'heavens': 3, 'menace': 1, 'known': 2, 'full': 9, 'faults.': 3, 'walkâ€™d': 2, 'streets,': 2, 'submitting': 1, 'perilous': 1, 'night;': 3, 'unbraced,': 1, 'barâ€™d': 1, 'bosom': 2, 'thunder-stone;': 1, 'cross': 3, 'blue': 1, 'lightning': 1, 'seemâ€™d': 2, 'open': 2, 'present': 3, 'aim': 1, 'flash': 1, 'tempt': 4, 'heavens?': 1, 'tremble,': 1, 'mighty': 12, 'tokens': 1, 'dreadful': 4, 'heralds': 1, 'astonish': 1, 'dull,': 1, 'sparks': 1, 'life': 8, 'want,': 1, 'not.': 12, 'pale': 1, 'gaze,': 1, 'cast': 2, 'wonder,': 1, 'impatience': 2, 'heavens:': 1, 'consider': 2, 'cause': 11, 'fires,': 1, 'gliding': 1, 'ghosts,': 1, 'birds': 1, 'beasts,': 2, 'quality': 3, 'kind;': 1, 'fools,': 1, 'children': 2, 'calculate,': 1, 'change': 4, 'ordinance,': 1, 'natures,': 1, 'pre-formed': 1, 'faculties,': 1, 'monstrous': 4, 'quality;': 1, 'heaven': 2, 'infusâ€™d': 1, 'spirits,': 3, 'instruments': 2, 'warning': 1, 'state.': 1, 'thunders,': 1, 'lightens,': 1, 'opens': 1, 'graves,': 1, 'roars,': 1, 'lion': 1, 'mightier': 1, 'thyself,': 1, 'personal': 2, 'action;': 1, 'prodigious': 1, 'grown,': 1, 'fearful,': 1, 'eruptions': 1, 'are.': 3, 'mean;': 1, 'cassius?': 3, 'is:': 2, 'thews': 1, 'limbs': 2, 'ancestors;': 1, 'woe': 2, 'while!': 1, 'fathersâ€™': 1, 'dead,': 6, 'governâ€™d': 2, 'mothersâ€™': 1, 'spirits;': 1, 'yoke': 1, 'sufferance': 2, 'womanish.': 1, 'senators': 5, 'tomorrow': 2, 'establish': 1, 'king;': 1, 'sea': 2, 'land,': 1, 'place,': 4, 'save': 3, 'italy.': 1, 'dagger': 3, 'then;': 1, 'bondage': 2, 'deliver': 2, 'cassius:': 2, 'therein,': 2, 'strong;': 2, 'tyrants': 1, 'defeat.': 1, 'stony': 1, 'tower,': 1, 'beaten': 1, 'brass,': 1, 'airless': 1, 'dungeon,': 1, 'strong': 7, 'links': 1, 'iron,': 1, 'retentive': 1, 'strength': 2, 'spirit;': 1, 'life,': 3, 'weary': 2, 'worldly': 1, 'bars,': 1, 'lacks': 1, 'power': 3, 'dismiss': 1, 'itself.': 1, 'tyranny': 3, 'pleasure.': 3, '[_thunder': 1, 'still._]': 2, 'i:': 1, 'bondman': 1, 'bears': 9, 'cancel': 1, 'captivity.': 1, 'tyrant': 1, 'then?': 1, 'man!': 2, 'wolf,': 1, 'sheep:': 1, 'hinds.': 1, 'haste': 2, 'begin': 2, 'straws.': 1, 'trash': 3, 'rubbish,': 1, 'offal,': 1, 'serves': 1, 'base': 5, 'illuminate': 1, 'vile': 6, 'grief,': 2, 'led': 3, 'perhaps,': 1, 'willing': 1, 'bondman:': 1, 'made;': 1, 'armâ€™d,': 1, 'indifferent.': 1, 'fleering': 1, 'tell-tale.': 1, 'hand:': 1, 'factious': 1, 'redress': 2, 'griefs,': 2, 'foot': 2, 'far': 6, 'goes': 5, 'farthest.': 1, 'bargain': 1, 'made.': 3, 'already': 2, 'certain': 4, 'noblest-minded': 1, 'undergo': 1, 'enterprise': 3, 'honourable-dangerous': 1, 'consequence;': 1, 'stay': 12, 'porch:': 1, 'fearful': 3, 'stir': 8, 'walking': 1, 'complexion': 1, 'element': 1, 'favourâ€™s': 1, 'bloody,': 2, 'fiery,': 1, 'terrible.': 1, 'cinna.': 21, 'close': 3, 'awhile,': 2, 'haste.': 2, 'cinna;': 6, 'gait;': 1, 'friend.': 4, 'cimber?': 2, 'incorporate': 2, 'attempts.': 1, 'stayâ€™d': 2, 'for,': 2, 'cinna?': 1, 'onâ€™t.': 1, 'two': 9, 'sights.': 1, 'yes,': 6, 'win': 1, 'partyâ€”': 1, 'content.': 2, 'take': 23, 'paper,': 2, 'praetorâ€™s': 1, 'chair,': 1, 'it;': 3, 'throw': 1, 'window;': 1, 'wax': 1, 'statue:': 1, 'repair': 2, 'porch,': 1, 'trebonius': 3, 'hie,': 1, 'bestow': 2, 'papers': 1, 'theatre.': 1, 'cinna._]': 1, 'come,': 13, 'house:': 1, 'parts': 3, 'ours': 1, 'already,': 1, 'entire': 1, 'next': 1, 'encounter,': 1, 'yields': 1, 'ours.': 1, 'sits': 1, 'peopleâ€™s': 1, 'hearts!': 1, 'appear': 6, 'offence': 3, 'us,': 7, 'countenance,': 1, 'richest': 1, 'alchemy,': 1, 'worthiness.': 1, 'worth,': 2, 'need': 4, 'conceited.': 1, 'midnight;': 1, 'awake': 4, 'cannot,': 2, 'progress': 1, 'guess': 1, 'day.â€”lucius,': 1, 'say!': 2, 'soundly.': 1, 'when,': 1, 'when?': 1, 'awake,': 1, 'lucius!': 4, 'lucius.': 32, 'callâ€™d': 4, 'taper': 4, 'study,': 1, 'lucius:': 1, 'lighted,': 1, 'call': 6, 'here.': 3, 'death:': 2, 'spurn': 2, 'general.': 2, 'crownâ€™d:': 1, 'nature,': 1, 'question.': 1, 'bright': 1, 'forth': 7, 'adder,': 1, 'craves': 1, 'wary': 1, 'walking.': 1, 'him?â€”that;': 1, 'grant,': 1, 'sting': 1, 'danger': 2, 'with.': 1, 'abuse': 1, 'greatness': 1, 'is,': 7, 'disjoins': 1, 'remorse': 1, 'power;': 1, 'truth': 2, 'affections': 1, 'swayâ€™d': 2, 'reason.': 2, 'proof,': 1, 'lowliness': 1, 'ambitionâ€™s': 2, 'ladder,': 1, 'whereto': 2, 'climber-upward': 1, 'turns': 3, 'face;': 1, 'attains': 1, 'upmost': 1, 'round,': 2, 'ladder': 1, 'back,': 2, 'clouds,': 2, 'scorning': 1, 'degrees': 1, 'ascend.': 1, 'may;': 1, 'lest': 5, 'may,': 2, 'prevent.': 1, 'quarrel': 1, 'fashion': 2, 'thus:': 1, 'augmented,': 1, 'extremities:': 1, 'serpentâ€™s': 1, 'egg': 1, 'hatchâ€™d,': 1, 'would,': 1, 'kind': 3, 'grow': 2, 'mischievous;': 1, 'kill': 6, 'shell.': 1, 'burneth': 1, 'closet,': 1, 'sir.': 4, 'searching': 1, 'window': 1, 'flint,': 1, 'found': 5, 'sealâ€™d': 1, 'up,': 3, 'lie': 6, 'bed.': 3, '[_gives': 1, 'letter._]': 1, 'bed': 2, 'again;': 2, 'day.': 3, 'boy,': 8, 'march?': 1, 'calendar,': 1, 'bring': 10, 'word.': 2, 'exhalations,': 1, 'whizzing': 1, 'air': 2, 'read': 12, '[_opens': 1, 'letter': 2, 'reads._]': 1, '_brutus,': 1, 'sleepâ€™st:': 2, 'thyself.': 1, '&c.': 1, 'strike,': 2, 'redress!_': 1, 'â€œbrutus,': 1, 'awake!â€\\x9d': 1, 'instigations': 1, 'often': 2, 'droppâ€™d': 1, 'took': 5, 'up.': 3, 'â€œshall': 1, '&c.â€\\x9d': 1, 'piece': 3, 'out:': 1, 'manâ€™s': 3, 'awe?': 1, 'rome?': 2, 'ancestors': 1, 'tarquin': 1, 'drive,': 1, 'â€œspeak,': 1, 'redress!â€\\x9d': 1, 'entreated': 1, 'strike?': 1, 'promise,': 1, 'follow,': 1, 'receivest': 1, 'petition': 1, 'march': 6, 'wasted': 1, 'fifteen': 1, 'days.': 1, '[_knock': 1, 'within._]': 2, 'gate,': 1, 'somebody': 1, 'knocks.': 2, 'lucius._]': 5, 'first': 28, 'whet': 1, 'slept.': 1, 'between': 2, 'acting': 1, 'motion,': 1, 'interim': 1, 'phantasma,': 1, 'hideous': 1, 'dream:': 1, 'genius': 1, 'mortal': 1, 'council;': 1, 'little': 5, 'kingdom,': 1, 'suffers': 1, 'nature': 4, 'insurrection.': 1, 'brother': 5, 'door,': 1, 'desire': 3, 'alone?': 1, 'moe': 1, 'them?': 1, 'hats': 1, 'ears,': 2, 'half': 3, 'faces': 2, 'cloaks,': 1, 'â€™em': 2, 'enter.': 1, 'faction.': 1, 'conspiracy,': 1, 'shamâ€™st': 1, 'dangerous': 3, 'brow': 1, 'evils': 2, 'free?': 1, 'wilt': 5, 'cavern': 1, 'dark': 1, 'enough': 5, 'mask': 1, 'visage?': 1, 'none,': 3, 'conspiracy;': 1, 'hide': 6, 'affability:': 1, 'path,': 1, 'native': 1, 'semblance': 1, 'on,': 5, 'erebus': 1, 'dim': 1, 'prevention.': 2, 'cimber': 4, 'trebonius.': 9, 'rest:': 1, 'morrow,': 5, 'brutus;': 4, 'hour,': 2, 'night.': 3, 'along': 4, 'everyone': 1, 'wish': 5, 'welcome': 4, 'hither.': 1, 'cimber.': 3, 'welcome.': 1, 'watchful': 1, 'cares': 1, 'interpose': 1, 'themselves': 4, 'betwixt': 1, 'night?': 1, 'word?': 1, '[_they': 1, 'whisper._]': 1, 'decius.': 14, 'lies': 6, 'east:': 1, 'break': 4, 'here?': 4, 'no.': 2, 'pardon,': 2, 'doth;': 1, 'yon': 1, 'grey': 1, 'lines': 1, 'fret': 2, 'clouds': 2, 'messengers': 1, 'confess': 2, 'deceivâ€™d.': 1, 'sun': 2, 'arises;': 1, 'south,': 1, 'weighing': 1, 'youthful': 1, 'season': 1, 'year.': 1, 'months': 1, 'hence,': 4, 'higher': 2, 'north': 1, 'presents': 1, 'fire;': 1, 'east': 1, 'stands,': 1, 'hands': 8, 'over,': 1, 'one.': 2, 'swear': 3, 'resolution.': 1, 'oath.': 2, 'souls,': 2, 'timeâ€™s': 1, 'abuseâ€”': 1, 'motives': 1, 'weak,': 1, 'betimes,': 1, 'hence': 2, 'high-sighted': 1, 'range': 1, 'each': 2, 'drop': 3, 'lottery.': 1, 'these,': 1, 'do,': 5, 'kindle': 1, 'cowards,': 2, 'steel': 3, 'valour': 1, 'melting': 1, 'spirits': 3, 'women;': 1, 'spur': 1, 'prick': 2, 'redress?': 2, 'bond': 2, 'secret': 1, 'romans,': 6, 'palter?': 1, 'oath': 1, 'honesty': 2, 'engagâ€™d,': 1, 'be,': 4, 'priests': 2, 'cautelous,': 1, 'carrions,': 1, 'suffering': 1, 'souls': 1, 'wrongs;': 2, 'causes': 1, 'creatures': 1, 'doubt;': 1, 'stain': 1, 'insuppressive': 1, 'performance': 1, 'oath;': 1, 'blood': 13, 'bears,': 2, 'nobly': 1, 'guilty': 1, 'bastardy,': 1, 'smallest': 1, 'particle': 1, 'promise': 2, 'passâ€™d': 1, 'cicero?': 1, 'him?': 6, 'means.': 1, 'metellus.': 5, 'silver': 1, 'hairs': 1, 'purchase': 1, 'opinion,': 1, 'buy': 1, 'menâ€™s': 2, 'voices': 1, 'commend': 3, 'deeds.': 1, 'judgment': 1, 'rulâ€™d': 1, 'hands;': 2, 'youths': 1, 'wildness': 1, 'whit': 1, 'gravity.': 1, 'begin.': 1, 'fit.': 1, 'touchâ€™d': 2, 'urgâ€™d.': 1, 'belovâ€™d': 1, 'outlive': 1, 'caesar:': 3, 'shrewd': 1, 'contriver;': 1, 'know,': 6, 'means,': 2, 'improve': 1, 'stretch': 1, 'annoy': 1, 'all;': 2, 'prevent,': 1, 'together.': 2, 'course': 2, 'seem': 5, 'caius': 10, 'cut': 5, 'head': 2, 'off,': 4, 'hack': 1, 'limbs,': 1, 'wrath': 1, 'death,': 7, 'envy': 2, 'afterwards;': 1, 'limb': 1, 'sacrificers,': 1, 'butchers,': 1, 'caius.': 1, 'blood.': 2, 'spirit,': 5, 'dismember': 1, 'bleed': 3, 'it!': 1, 'friends,': 17, 'letâ€™s': 5, 'boldly,': 1, 'wrathfully;': 1, 'carve': 1, 'dish': 1, 'hew': 1, 'carcass': 1, 'hounds.': 1, 'subtle': 1, 'rage,': 2, 'chide': 1, 'â€™em.': 2, 'necessary,': 1, 'envious;': 1, 'appearing': 1, 'eyes,': 2, 'purgers,': 1, 'murderers.': 2, 'arm': 2, 'off.': 4, 'ingrafted': 1, 'caesarâ€”': 1, 'him:': 3, 'himself;': 1, 'die': 9, 'should;': 1, 'given': 3, 'sports,': 1, 'wildness,': 1, 'company.': 1, 'die;': 3, 'live,': 5, 'laugh': 1, '[_clock': 1, 'strikes._]': 1, 'peace!': 4, 'count': 1, 'clock.': 1, 'clock': 1, 'stricken': 1, 'three.': 1, 'part.': 2, 'doubtful': 1, 'today': 5, 'no;': 2, 'superstitious': 1, 'late,': 1, 'main': 1, 'fantasy,': 1, 'dreams,': 1, 'apparent': 1, 'prodigies,': 1, 'unaccustomâ€™d': 1, 'terror': 1, 'persuasion': 1, 'augurers,': 1, 'that:': 1, 'resolved,': 1, 'oâ€™ersway': 1, 'unicorns': 1, 'betrayâ€™d': 1, 'trees,': 1, 'glasses,': 1, 'elephants': 1, 'holes,': 1, 'lions': 2, 'toils,': 1, 'flatterers.': 1, 'hates': 1, 'flatterers,': 1, 'does,': 2, 'flattered.': 1, 'work;': 1, 'bent,': 1, 'fetch': 6, 'eighth': 1, 'hour:': 1, 'uttermost?': 1, 'uttermost;': 1, 'fail': 1, 'then.': 4, 'ligarius': 1, 'rated': 1, 'pompey;': 1, 'wonder': 1, 'none': 4, 'metellus,': 3, 'reason;': 1, 'hither,': 5, 'morning': 2, 'uponâ€™s.': 1, 'weâ€™ll': 15, 'disperse': 1, 'yourselves;': 1, 'yourselves': 4, 'romans.': 1, 'gentlemen,': 2, 'fresh': 2, 'merrily;': 1, 'purposes,': 1, 'actors': 1, 'untired': 1, 'formal': 1, 'constancy.': 1, 'so,': 11, 'morrow': 2, 'everyone.': 2, 'boy!': 2, 'fast': 3, 'asleep?': 1, 'enjoy': 1, 'honey-heavy': 1, 'dew': 1, 'slumber:': 1, 'figures': 1, 'fantasies,': 1, 'busy': 1, 'care': 2, 'draws': 2, 'brains': 1, 'men;': 5, 'sleepâ€™st': 1, 'sound.': 1, 'portia.': 19, 'rise': 2, 'health': 1, 'commit': 1, 'condition': 2, 'morning.': 1, 'neither.': 1, 'yâ€™': 1, 'ungently,': 1, 'stole': 1, 'bed;': 1, 'yesternight': 1, 'supper,': 1, 'suddenly': 1, 'arose,': 1, 'about,': 1, 'musing': 1, 'sighing,': 1, 'arms': 2, 'across;': 1, 'askâ€™d': 1, 'starâ€™d': 1, 'ungentle': 1, 'looks.': 1, 'urgâ€™d': 1, 'further;': 1, 'scratchâ€™d': 1, 'head,': 1, 'impatiently': 1, 'stampâ€™d': 1, 'foot;': 1, 'insisted,': 1, 'answerâ€™d': 3, 'wafture': 1, 'gave': 5, 'did,': 2, 'fearing': 3, 'strengthen': 1, 'enkindled;': 1, 'hoping': 1, 'effect': 1, 'humour,': 2, 'sometime': 1, 'hour': 3, 'eat,': 1, 'talk,': 2, 'sleep;': 2, 'shape': 1, 'prevailâ€™d': 1, 'condition,': 1, 'lord,': 10, 'acquainted': 1, 'grief.': 1, 'health,': 3, 'wise,': 2, 'embrace': 1, 'sick,': 3, 'physical': 1, 'unbraced': 1, 'suck': 2, 'humours': 1, 'dank': 1, 'morning?': 1, 'steal': 2, 'wholesome': 1, 'dare': 4, 'contagion': 1, 'rheumy': 1, 'unpurged': 1, 'add': 1, 'sickness?': 2, 'mind,': 3, 'which,': 5, 'of:': 1, 'charm': 1, 'commended': 1, 'beauty,': 1, 'vows': 1, 'love,': 4, 'vow': 1, 'one,': 1, 'unfold': 2, 'half,': 1, 'heavy,': 1, 'tonight': 5, 'resort': 1, 'six': 1, 'seven,': 1, 'darkness.': 1, 'kneel': 1, 'need,': 1, 'marriage,': 1, 'excepted': 1, 'secrets': 2, 'appertain': 1, 'self': 1, 'were,': 1, 'limitation,': 1, 'meals,': 1, 'comfort': 2, 'bed,': 1, 'talk': 6, 'sometimes?': 1, 'dwell': 2, 'suburbs': 1, 'pleasure?': 1, 'more,': 3, 'portia': 3, 'harlot,': 1, 'wife.': 1, 'wife,': 3, 'ruddy': 1, 'drops': 1, 'visit': 3, 'heart.': 5, 'secret.': 1, 'grant': 3, 'woman;': 2, 'woman': 3, 'lord': 3, 'wife;': 1, 'reputed,': 1, 'catoâ€™s': 2, 'daughter.': 1, 'stronger': 1, 'sex,': 1, 'fatherâ€™d': 1, 'husbanded?': 1, 'counsels,': 1, 'disclose': 1, 'proof': 2, 'constancy,': 2, 'giving': 1, 'voluntary': 1, 'wound': 2, 'thigh:': 1, 'husbandâ€™s': 1, 'secrets?': 1, 'render': 2, 'wife!': 1, '[_knock._]': 1, 'hark,': 4, 'awhile;': 2, 'partake': 1, 'engagements': 1, 'thee,': 11, 'charactery': 1, 'brows.': 1, 'portia._]': 1, 'lucius': 5, 'ligarius.': 7, 'knocks?': 1, 'ligarius,': 5, 'spake': 1, 'aside.': 1, 'how?': 1, 'vouchsafe': 2, 'good-morrow': 1, 'tongue.': 1, 'chose': 1, 'brave': 5, 'caius,': 2, 'kerchief!': 1, 'sick!': 1, 'exploit': 2, 'honour.': 2, 'healthful': 1, 'bow': 1, 'before,': 2, 'discard': 1, 'sickness.': 1, 'soul': 1, 'rome!': 1, 'son,': 2, 'derived': 1, 'loins!': 1, 'exorcist,': 1, 'conjurâ€™d': 1, 'mortified': 1, 'spirit.': 2, 'run,': 4, 'strive': 1, 'impossible,': 1, 'whatâ€™s': 3, 'do?': 3, 'whole.': 1, 'whole': 1, 'sick?': 1, 'also.': 1, 'going,': 2, 'whom': 1, 'done.': 3, 'foot,': 1, 'heart': 15, 'new-firâ€™d': 1, 'what;': 1, 'sufficeth': 2, 'leads': 3, 'on.': 5, '[_thunder._]': 1, 'nightgown.': 1, 'tonight:': 1, 'thrice': 3, 'calphurnia': 2, 'cried': 1, 'â€œhelp,': 1, 'murder': 1, 'caesar!â€\\x9d': 2, 'within?': 1, 'servant.': 16, 'sacrifice,': 1, 'opinions': 1, 'success.': 1, 'forth?': 2, 'threatenâ€™d': 1, 'lookâ€™d': 1, 'back;': 3, 'vanished.': 1, 'ceremonies,': 1, 'fright': 1, 'within,': 3, 'besides': 1, 'seen,': 1, 'recounts': 1, 'horrid': 1, 'sights': 1, 'watch.': 1, 'lioness': 1, 'whelped': 1, 'graves': 1, 'yawnâ€™d,': 1, 'yielded': 1, 'dead;': 2, 'fierce': 2, 'warriors': 1, 'fight': 2, 'ranks': 1, 'squadrons': 1, 'form': 2, 'drizzled': 1, 'battle': 4, 'hurtled': 1, 'air,': 1, 'horses': 2, 'neigh,': 1, 'dying': 1, 'groan,': 1, 'ghosts': 1, 'shriek': 1, 'squeal': 1, 'beyond': 1, 'use,': 3, 'them!': 1, 'avoided': 1, 'end': 4, 'purposâ€™d': 1, 'gods?': 1, 'forth;': 2, 'predictions': 1, 'beggars': 1, 'die,': 3, 'comets': 1, 'seen;': 1, 'blaze': 1, 'princes.': 1, 'cowards': 1, 'times': 3, 'deaths;': 1, 'valiant': 4, 'taste': 2, 'once.': 1, 'wonders': 1, 'heard,': 1, 'seems': 1, 'seeing': 2, 'necessary': 1, 'end,': 2, 'come.': 5, 'augurers?': 1, 'plucking': 1, 'entrails': 1, 'offering': 1, 'forth,': 4, 'beast.': 1, 'shame': 1, 'cowardice:': 1, 'beast': 1, 'fear.': 2, 'knows': 3, 'he.': 1, 'litterâ€™d': 1, 'elder': 2, 'terrible,': 1, 'wisdom': 1, 'consumâ€™d': 1, 'confidence.': 1, 'today:': 1, 'keeps': 1, 'house,': 3, 'own.': 1, 'senate-house,': 1, 'knee': 2, 'prevail': 1, 'this.': 2, 'hereâ€™s': 3, 'hail!': 1, 'senate-house.': 1, 'happy': 3, 'greeting': 1, 'false;': 1, 'falser:': 1, 'sick.': 1, 'lie?': 2, 'stretchâ€™d': 1, 'far,': 1, 'afeard': 1, 'grey-beards': 1, 'truth?': 1, 'cause,': 1, 'laughâ€™d': 1, 'will;': 2, 'satisfy': 1, 'senate.': 1, 'private': 3, 'satisfaction,': 1, 'know:': 1, 'stays': 1, 'she': 7, 'dreamt': 2, 'statue,': 1, 'fountain': 1, 'spouts': 1, 'pure': 1, 'blood;': 2, 'smiling,': 1, 'bathe': 2, 'does': 2, 'apply': 1, 'warnings': 1, 'portents': 1, 'imminent;': 1, 'beggâ€™d': 1, 'dream': 2, 'amiss': 2, 'interpreted:': 1, 'vision': 1, 'fortunate.': 1, 'statue': 3, 'spouting': 1, 'pipes,': 1, 'smiling': 1, 'bathâ€™d,': 1, 'signifies': 1, 'reviving': 1, 'blood,': 5, 'tinctures,': 1, 'stains,': 1, 'relics,': 1, 'cognizance.': 1, 'signified.': 1, 'expounded': 1, 'have,': 3, 'say;': 1, 'now.': 3, 'concluded': 1, 'change.': 2, 'mock': 1, 'apt': 3, 'renderâ€™d,': 1, 'someone': 1, 'â€œbreak': 1, 'time,': 3, 'dreams.â€\\x9d': 1, 'himself,': 4, 'whisper': 1, 'â€œlo,': 1, 'afraidâ€\\x9d?': 1, 'pardon': 5, 'proceeding': 1, 'reason': 4, 'liable.': 1, 'foolish': 1, 'fears': 2, 'calphurnia!': 1, 'ashamed': 1, 'yield': 2, 'robe,': 1, 'go.': 1, 'cinna': 4, 'publius.': 5, 'publius': 4, 'welcome,': 3, 'stirrâ€™d': 1, 'early': 2, 'too?': 1, 'enemy': 6, 'ague': 1, 'lean.': 1, 'isâ€™t': 3, 'oâ€™clock?': 2, 'strucken': 2, 'eight.': 1, 'thank': 3, 'pains': 1, 'courtesy.': 1, 'see!': 1, 'revels': 1, 'long': 1, 'a-nights,': 1, 'notwithstanding': 1, 'prepare': 5, 'within.': 1, 'blame': 5, 'waited': 1, 'for.': 3, 'metellus;': 2, 'trebonius!': 1, 'hourâ€™s': 1, 'store': 2, 'today;': 1, 'will.': 7, '[_aside._]': 4, 'further.': 1, 'wine': 3, 'we,': 4, 'straightway': 1, 'same,': 1, 'yearns': 1, 'reading': 1, 'paper.': 1, 'artemidorus.': 4, '_â€œcaesar,': 1, 'trust': 1, 'trebonius;': 1, 'cimber;': 1, 'wrongâ€™d': 3, 'bent': 1, 'beâ€™st': 2, 'immortal,': 1, 'security': 1, 'conspiracy.': 1, 'defend': 2, 'thee!': 2, 'lover,': 1, 'artemidorus.â€\\x9d_': 1, 'along,': 2, 'suitor': 2, 'laments': 1, 'teeth': 2, 'emulation.': 1, 'mayest': 1, 'live;': 2, 'fates': 1, 'traitors': 1, 'contrive.': 1, 'prâ€™ythee,': 3, 'senate-house;': 1, 'gone.': 2, 'stay?': 1, 'errand,': 1, 'madam.': 2, 'shouldst': 2, 'there.': 1, 'side,': 1, 'mountain': 1, 'â€™tween': 2, 'tongue!': 1, 'womanâ€™s': 1, 'might.': 1, 'women': 1, 'counsel!': 1, 'yet?': 1, 'madam,': 3, 'else?': 2, 'return': 1, 'sickly': 2, 'forth:': 2, 'suitors': 1, 'listen': 2, 'bustling': 1, 'rumour,': 1, 'fray,': 1, 'wind': 1, 'sooth,': 1, 'nothing.': 2, 'fellow:': 1, 'been?': 1, 'lady.': 2, 'ninth': 1, 'capitol?': 1, 'yet.': 2, 'stand,': 6, 'suit': 4, 'lady,': 1, 'befriend': 1, 'himself.': 2, 'knowâ€™st': 2, 'harmâ€™s': 1, 'intended': 2, 'chance.': 1, 'narrow.': 1, 'follows': 1, 'heels,': 1, 'praetors,': 1, 'suitors,': 1, 'almost': 3, 'place': 6, 'void,': 1, 'along.': 2, 'ay': 1, 'is!': 1, 'thine': 3, 'enterprise!': 1, 'boy': 1, 'grant.': 1, 'faint.': 1, 'lord;': 1, 'merry;': 1, 'thee.': 7, 'leading': 1, 'flourish.': 1, 'hail,': 2, 'schedule.': 1, 'oâ€™er-read,': 1, 'leisure,': 1, 'humble': 2, 'suit.': 1, 'first;': 1, 'mineâ€™s': 1, 'touches': 2, 'nearer.': 1, 'ourself': 1, 'servâ€™d.': 1, 'delay': 1, 'instantly.': 1, 'mad?': 1, 'sirrah,': 2, 'urge': 3, 'petitions': 1, 'street?': 1, 'enters': 1, 'following.': 1, 'rise.': 1, 'popilius.': 2, 'thrive.': 2, 'popilius?': 1, '[_advances': 1, 'caesar._]': 1, 'lena?': 1, 'discovered.': 1, 'makes': 4, 'sudden,': 1, 'done?': 1, 'known,': 1, 'slay': 1, 'constant:': 1, 'lena': 1, 'speaks': 2, 'purposes;': 1, 'smiles,': 1, 'way.': 2, 'seats._]': 1, 'presently': 2, 'prefer': 2, 'addressâ€™d;': 1, 'rears': 1, 'hand.': 5, 'ready?': 1, 'high,': 1, 'mighty,': 2, 'puissant': 1, 'throws': 1, '[_kneeling._]': 1, 'prevent': 2, 'couchings': 1, 'lowly': 1, 'courtesies': 1, 'pre-ordinance': 1, 'decree': 2, 'law': 1, 'children.': 1, 'fond,': 1, 'rebel': 1, 'thawâ€™d': 1, 'melteth': 1, 'fools;': 1, 'sweet': 3, 'words,': 3, 'low-crooked': 1, 'curtsies,': 1, 'spaniel': 1, 'fawning.': 1, 'banished:': 1, 'bend,': 1, 'pray,': 1, 'cur': 1, 'wrong,': 2, 'satisfied.': 4, 'voice': 5, 'own,': 1, 'sweetly': 1, 'repealing': 1, 'banishâ€™d': 1, 'brother?': 2, 'flattery,': 1, 'desiring': 1, 'immediate': 1, 'freedom': 1, 'repeal.': 1, 'brutus?': 2, 'pardon:': 2, 'low': 1, 'fall,': 3, 'beg': 4, 'enfranchisement': 1, 'movâ€™d,': 1, 'move,': 1, 'prayers': 1, 'move': 3, 'me:': 2, 'constant': 3, 'northern': 1, 'star,': 1, 'true-fixâ€™d': 1, 'resting': 1, 'firmament.': 1, 'skies': 1, 'painted': 1, 'unnumberâ€™d': 1, 'sparks,': 1, 'shine;': 1, 'world;': 2, 'furnishâ€™d': 1, 'flesh': 1, 'apprehensive;': 1, 'number': 3, 'unassailable': 1, 'rank,': 1, 'unshakâ€™d': 1, 'motion:': 1, 'he,': 4, 'banishâ€™d,': 1, 'remain': 1, 'caesar,â€”': 2, 'lift': 1, 'olympus?': 1, 'bootless': 1, 'kneel?': 1, 'me!': 1, '[_casca': 1, 'stabs': 1, 'neck.': 2, 'catches': 1, 'arm.': 1, 'stabbed': 1, 'conspirators,': 1, '_et': 1, 'tu,': 1, 'brute?_â€”then': 1, '[_dies.': 1, 'retire': 1, 'confusion._]': 1, 'liberty!': 1, 'freedom!': 1, 'dead!': 1, 'proclaim,': 1, 'pulpits': 1, 'â€œliberty,': 1, 'freedom,': 2, 'enfranchisement!â€\\x9d': 1, 'affrighted.': 1, 'debt': 1, 'paid.': 1, 'pulpit,': 3, 'whereâ€™s': 2, 'publius?': 1, 'confounded': 1, 'mutiny.': 4, 'chanceâ€”': 1, 'standing.': 1, 'cheer!': 1, 'harm': 2, 'person,': 1, 'else.': 1, 'publius;': 1, 'rushing': 2, 'mischief.': 1, 'abide': 2, 'deed': 5, 'doers.': 1, 'antony?': 1, 'fled': 3, 'amazâ€™d.': 1, 'wives,': 1, 'stare,': 1, 'doomsday.': 1, 'fates,': 1, 'pleasures.': 1, 'know;': 1, 'drawing': 1, 'cuts': 2, 'years': 2, 'benefit:': 1, 'abridgâ€™d': 1, 'stoop,': 2, 'elbows,': 1, 'besmear': 1, 'swords:': 1, 'waving': 1, 'red': 4, 'weapons': 1, 'oâ€™er': 2, 'heads,': 2, 'cry,': 1, 'â€œpeace,': 1, 'liberty!â€\\x9d': 1, 'stoop': 1, 'wash.': 1, 'ages': 1, 'lofty': 1, 'acted': 1, 'states': 1, 'unborn,': 1, 'accents': 1, 'unknown!': 1, 'sport,': 1, 'basis': 1, 'worthier': 1, 'dust!': 1, 'knot': 1, 'country': 3, 'liberty.': 1, 'away.': 1, 'lead;': 1, 'heels': 1, 'boldest': 1, 'soft,': 1, 'antonyâ€™s.': 1, 'thus,': 1, 'master': 6, 'kneel;': 1, 'down;': 2, 'prostrate,': 1, 'say:': 1, 'noble,': 3, 'valiant,': 2, 'honest;': 1, 'bold,': 1, 'royal,': 1, 'loving;': 1, 'honourâ€™d': 2, 'lovâ€™d': 2, 'safely': 1, 'resolvâ€™d': 3, 'deservâ€™d': 1, 'dead': 4, 'living;': 1, 'fortunes': 1, 'affairs': 3, 'thorough': 2, 'hazards': 1, 'untrod': 1, 'state,': 1, 'faith.': 1, 'wise': 2, 'roman;': 1, 'worse.': 1, 'satisfied': 1, 'honour,': 4, 'depart': 2, 'untouchâ€™d.': 1, 'presently.': 1, 'may:': 1, 'much;': 1, 'misgiving': 1, 'still': 3, 'falls': 2, 'shrewdly': 1, 'purpose.': 1, 'low?': 1, 'conquests,': 1, 'glories,': 2, 'triumphs,': 1, 'spoils,': 1, 'shrunk': 1, 'measure?': 1, 'intend,': 1, 'rank:': 1, 'deathâ€™s': 1, 'hour;': 1, 'instrument': 2, 'swords,': 1, 'rich': 2, 'ye,': 1, 'whilst': 7, 'purpled': 1, 'reek': 1, 'smoke,': 1, 'fulfill': 1, 'thousand': 1, 'years,': 2, 'die.': 1, 'choice': 1, 'age.': 1, 'though': 6, 'bloody': 8, 'cruel,': 1, 'do;': 1, 'bleeding': 2, 'business': 3, 'pitiful;': 1, 'pity': 3, 'wrong': 11, 'romeâ€”': 1, 'drives': 1, 'pityâ€”': 1, 'swords': 2, 'leaden': 2, 'points,': 1, 'malice,': 1, 'brothersâ€™': 1, 'temper,': 1, 'receive': 3, 'thoughts,': 1, 'reverence.': 2, 'disposing': 1, 'dignities.': 1, 'appeasâ€™d': 1, 'multitude,': 1, 'beside': 1, 'proceeded.': 1, 'doubt': 2, 'wisdom.': 1, 'first,': 2, 'next,': 1, 'yours;': 2, 'yours,': 3, 'last,': 1, 'least': 1, 'gentlemen': 1, 'allâ€”alas,': 1, 'say?': 2, 'credit': 2, 'stands': 1, 'slippery': 1, 'ground,': 1, 'ways': 1, 'conceit': 1, 'flatterer.': 1, 'true:': 1, 'grieve': 1, 'dearer': 2, 'making': 1, 'shaking': 1, 'foes,': 1, 'presence': 1, 'corse?': 1, 'wounds,': 3, 'weeping': 1, 'terms': 1, 'friendship': 1, 'enemies.': 2, 'julius!': 1, 'wast': 2, 'bayâ€™d,': 1, 'hart;': 2, 'didst': 7, 'fall;': 2, 'hunters': 1, 'signâ€™d': 1, 'spoil,': 2, 'crimsonâ€™d': 1, 'lethe.': 1, 'forest': 1, 'deer': 1, 'princes,': 1, 'lie!': 1, 'antony,â€”': 1, 'enemies': 2, 'this;': 1, 'modesty.': 1, 'praising': 1, 'compact': 1, 'us?': 1, 'prickâ€™d': 2, 'depend': 1, 'point,': 1, 'looking': 1, 'all,': 5, 'hope,': 1, 'reasons': 5, 'wherein,': 1, 'savage': 1, 'spectacle.': 1, 'regard': 3, 'thatâ€™s': 4, 'seek,': 1, 'moreover': 1, 'produce': 1, 'body': 3, 'market-place;': 1, 'becomes': 1, 'funeral.': 5, 'shall,': 1, '[_aside': 3, 'consent': 2, 'utter?': 1, 'pulpit': 2, 'protest': 1, 'permission;': 2, 'contented': 2, 'rights': 1, 'lawful': 1, 'advantage': 3, 'wrong.': 3, 'body.': 5, 'funeral': 1, 'speech': 4, 'devise': 1, 'doâ€™t': 1, 'ended.': 1, 'more.': 5, 'antony._]': 1, 'earth,': 1, 'meek': 1, 'butchers.': 1, 'ruins': 1, 'noblest': 3, 'lived': 1, 'tide': 2, 'times.': 1, 'shed': 2, 'costly': 1, 'blood!': 1, 'wounds': 2, 'prophesy,': 1, 'dumb': 2, 'mouths': 1, 'ruby': 1, 'utterance': 1, 'tongue,': 1, 'curse': 1, 'domestic': 1, 'fury': 1, 'cumber': 1, 'italy;': 1, 'destruction': 1, 'objects': 1, 'familiar,': 1, 'mothers': 1, 'quartered': 1, 'war;': 1, 'chokâ€™d': 1, 'custom': 1, 'deeds:': 1, 'ranging': 1, 'revenge,': 1, 'ate': 1, 'side': 3, 'hot': 3, 'hell,': 1, 'confines': 1, 'monarchâ€™s': 1, 'havoc': 1, 'slip': 1, 'dogs': 1, 'foul': 1, 'smell': 1, 'carrion': 1, 'burial.': 2, 'serve': 1, 'letters,': 3, 'coming,': 1, 'mouth,â€”': 1, '[_seeing': 1, 'body._]': 3, 'big,': 1, 'apart': 1, 'weep.': 1, 'passion,': 1, 'catching;': 1, 'beads': 1, 'sorrow': 2, 'thine,': 1, 'began': 1, 'water.': 1, 'coming?': 1, 'seven': 1, 'leagues': 1, 'post': 1, 'mourning': 2, 'safety': 1, 'hie': 2, 'shalt': 4, 'borne': 1, 'corse': 1, 'market-place:': 1, 'try,': 1, 'oration,': 1, 'issue': 1, 'discourse': 1, 'lend': 2, 'satisfied;': 1, 'audience,': 1, 'friends.': 1, 'numbers.': 1, 'here;': 1, 'rendered': 1, 'citizen.': 68, 'compare': 1, 'reasons,': 1, 'severally': 1, 'rendered.': 1, 'rostrum._]': 1, 'ascended:': 1, 'silence!': 2, 'last.': 2, 'lovers,': 1, 'cause;': 2, 'silent,': 1, 'believe.': 1, 'censure': 1, 'wisdom,': 1, 'senses,': 1, 'judge.': 1, 'assembly,': 1, 'caesarâ€™s,': 1, 'less': 2, 'his.': 1, 'demand': 2, 'rose': 1, 'answer:': 1, 'loved': 4, 'less,': 1, 'living,': 1, 'slaves,': 1, 'men?': 1, 'fortunate,': 1, 'ambitious,': 2, 'slew': 3, 'tears,': 2, 'love;': 1, 'joy': 1, 'fortune;': 2, 'valour;': 1, 'ambition.': 1, 'base,': 1, 'bondman?': 1, 'any,': 3, 'speak;': 3, 'offended.': 4, 'rude,': 1, 'roman?': 1, 'vile,': 2, 'country?': 1, 'pause': 2, 'reply.': 1, 'none.': 1, 'question': 2, 'enrollâ€™d': 1, 'glory': 2, 'extenuated,': 1, 'worthy;': 1, 'offences': 1, 'enforcâ€™d,': 1, 'suffered': 1, 'others,': 1, 'mourned': 1, 'who,': 4, 'benefit': 1, 'dying,': 2, 'commonwealth;': 1, 'depart,': 2, 'lover': 1, 'brutus!': 3, 'live!': 3, 'ancestors.': 1, 'fourth': 16, 'crownâ€™d': 2, 'shouts': 1, 'clamours.': 1, 'countrymen,â€”': 1, 'alone,': 2, 'sake,': 2, 'corpse,': 1, 'permission,': 1, 'allowâ€™d': 1, 'make.': 1, 'spoke.': 1, 'stay,': 3, 'chair.': 1, 'beholding': 2, '[_goes': 1, 'up._]': 2, 'says,': 1, 'sake': 1, 'finds': 1, 'â€™twere': 1, 'here!': 1, 'tyrant.': 1, 'certain.': 1, 'blest': 1, 'rid': 2, 'say.': 1, 'romans,â€”': 1, 'ears;': 1, 'bury': 2, 'praise': 1, 'evil': 2, 'lives': 1, 'interred': 1, 'bones;': 1, 'ambitious.': 2, 'grievous': 1, 'grievously': 1, 'rest,': 4, 'faithful': 1, 'just': 1, 'captives': 1, 'ransoms': 1, 'coffers': 1, 'fill:': 1, 'ambitious?': 1, 'wept;': 1, 'sterner': 1, 'stuff:': 1, 'ambitious;': 2, 'lupercal': 1, 'presented': 1, 'kingly': 1, 'refuse.': 1, 'ambition?': 1, 'disprove': 1, 'spoke,': 1, 'know.': 1, 'withholds': 1, 'mourn': 1, 'judgment,': 1, 'brutish': 1, 'coffin': 1, 'methinks': 1, 'sayings.': 1, 'rightly': 1, 'matter,': 2, 'masters?': 1, 'markâ€™d': 1, 'words?': 1, 'soul,': 1, 'weeping.': 1, 'nobler': 1, 'begins': 2, 'again': 2, 'there,': 3, 'masters!': 1, 'disposâ€™d': 1, 'mutiny': 1, 'wrong;': 1, 'parchment': 1, 'seal': 1, 'closet;': 1, 'will:': 1, 'commons': 1, 'testament,': 1, 'read,': 1, 'dip': 1, 'napkins': 1, 'sacred': 1, 'hair': 2, 'memory,': 1, 'mention': 1, 'wills,': 1, 'bequeathing': 1, 'legacy': 1, 'issue.': 1, 'will!': 6, 'patience,': 1, 'wood,': 1, 'hearing': 1, 'inflame': 1, 'mad.': 1, 'heirs;': 1, 'should,': 1, 'patient?': 1, 'awhile?': 1, 'oâ€™ershot': 1, 'daggers': 2, 'traitors.': 3, 'men!': 1, 'testament!': 1, 'villains,': 2, 'compel': 1, 'will?': 1, 'ring': 1, 'corpse': 1, 'descend?': 1, 'leave?': 1, 'descend.': 1, '[_he': 2, 'down._]': 2, 'leave.': 1, 'ring!': 1, 'round.': 1, 'hearse,': 1, 'antony!': 1, 'room!': 1, 'back.': 3, 'mantle.': 1, 'summerâ€™s': 1, 'evening,': 1, 'overcame': 2, 'nervii.': 1, 'ran': 3, 'cassiusâ€™': 4, 'through:': 1, 'rent': 1, 'envious': 1, 'made:': 1, 'well-beloved': 1, 'stabbâ€™d;': 1, 'cursed': 1, 'away,': 8, 'followâ€™d': 1, 'doors,': 2, 'unkindly': 1, 'knockâ€™d,': 1, 'angel.': 1, 'judge,': 1, 'dearly': 1, 'unkindest': 1, 'stab,': 2, 'ingratitude,': 1, 'traitorsâ€™': 3, 'vanquishâ€™d': 1, 'burst': 1, 'heart;': 1, 'mantle': 1, 'muffling': 1, 'face,': 2, 'while': 3, 'countrymen!': 1, 'treason': 1, 'flourishâ€™d': 1, 'weep;': 1, 'feel': 1, 'dint': 1, 'pity.': 1, 'gracious': 1, 'drops.': 2, 'vesture': 1, 'wounded?': 1, 'marrâ€™d,': 1, 'piteous': 1, 'spectacle!': 1, 'woeful': 1, 'day!': 1, 'traitors,': 2, 'villains!': 1, 'sight!': 1, 'revenged.': 1, 'revenge,â€”about,â€”seek,â€”burn,â€”fire,â€”kill,â€”slay,â€”let': 1, 'traitor': 1, 'countrymen.': 1, 'there!': 1, 'sudden': 2, 'flood': 1, 'honourable.': 2, 'griefs': 2, 'theyâ€™re': 1, 'honourable,': 1, 'doubt,': 1, 'orator,': 1, 'is;': 1, 'plain': 2, 'friend;': 3, 'neither': 1, 'action,': 1, 'utterance,': 1, 'speech,': 1, 'mouths,': 1, 'ruffle': 1, 'stones': 1, 'then!': 1, 'conspirators.': 2, 'countrymen;': 1, 'what.': 1, 'deserved': 1, 'loves?': 1, 'forgot': 1, 'true;': 1, 'will!â€”letâ€™s': 1, 'seal.': 1, 'citizen': 1, 'gives,': 1, 'seventy-five': 1, 'drachmas.': 1, 'revenge': 2, 'royal': 1, 'patience.': 1, 'moreover,': 1, 'walks,': 1, 'arbors,': 1, 'new-planted': 1, 'orchards,': 1, 'tiber;': 1, 'heirs': 1, 'forever;': 1, 'pleasures,': 1, 'abroad,': 2, 'recreate': 1, 'yourselves.': 1, 'another?': 1, 'never,': 2, 'never.': 1, 'away!': 3, 'brands': 1, 'houses.': 1, 'benches.': 1, 'forms,': 1, 'mischief,': 1, 'afoot,': 1, 'wilt!': 1, 'fellow?': 1, 'he?': 3, 'lepidus': 3, 'thither': 1, 'straight': 3, 'wish.': 1, 'fortune': 2, 'merry,': 1, 'mood': 1, 'madmen': 1, 'gates': 1, 'belike': 1, 'notice': 1, 'people,': 1, 'moved': 1, 'octavius.': 21, 'poet,': 3, 'unluckily': 1, 'charge': 2, 'fantasy.': 1, 'wander': 1, 'something': 2, 'name?': 2, 'whither': 2, 'going?': 2, 'dwell?': 2, 'married': 2, 'bachelor?': 2, 'briefly.': 2, 'wisely.': 1, 'best.': 1, 'briefly,': 2, 'wisely': 3, 'truly.': 2, 'bachelor.': 1, 'fools': 1, 'marry;': 1, 'youâ€™ll': 1, 'bang': 1, 'proceed,': 1, 'directly,': 1, 'going': 1, 'enemy?': 1, 'answered': 1, 'dwelling,': 1, 'name,': 1, 'tear': 5, 'pieces!': 2, 'conspirator.': 2, 'verses,': 1, 'verses.': 1, 'nameâ€™s': 1, 'heart,': 4, 'going.': 1, 'him!': 1, 'come;': 3, 'brands,': 1, 'firebrands.': 1, 'brutusâ€™,': 1, 'cassiusâ€™;': 1, 'deciusâ€™': 1, 'cascaâ€™s,': 1, 'ligariusâ€™.': 1, 'go!': 1, 'seated': 1, 'table.': 1, 'prickâ€™d.': 1, 'lepidus?': 1, 'lepidus.': 3, 'consent,â€”': 1, 'sisterâ€™s': 1, 'damn': 1, 'house;': 1, 'determine': 1, 'legacies.': 1, 'lepidus._]': 1, 'slight': 2, 'unmeritable': 1, 'sent': 1, 'errands.': 1, 'fit,': 1, 'three-fold': 1, 'divided,': 1, 'share': 1, 'black': 1, 'sentence': 1, 'proscription.': 2, 'octavius,': 10, 'divers': 1, 'slandâ€™rous': 1, 'loads,': 1, 'ass': 1, 'gold,': 3, 'groan': 1, 'sweat': 1, 'business,': 1, 'driven,': 1, 'way;': 1, 'having': 2, 'treasure': 1, 'load,': 1, 'empty': 1, 'ass,': 1, 'graze': 1, 'commons.': 1, 'tried': 2, 'soldier.': 8, 'horse,': 1, 'octavius;': 1, 'appoint': 1, 'provender.': 1, 'creature': 1, 'teach': 1, 'fight,': 1, 'wind,': 3, 'stop,': 1, 'corporal': 1, 'motion': 1, 'taste,': 1, 'taught,': 1, 'trainâ€™d,': 1, 'barren-spirited': 1, 'fellow;': 1, 'feeds': 1, 'objects,': 1, 'arts,': 1, 'imitations,': 1, 'stalâ€™d': 1, 'fashion.': 3, 'property.': 1, 'levying': 1, 'powers;': 1, 'head.': 2, 'alliance': 1, 'combinâ€™d,': 1, 'made,': 1, 'stretchâ€™d;': 1, 'sit': 3, 'council,': 1, 'covert': 1, 'matters': 1, 'disclosâ€™d,': 1, 'perils': 2, 'surest': 1, 'answered.': 2, 'stake,': 1, 'bayâ€™d': 1, 'enemies;': 1, 'millions': 1, 'mischiefs.': 1, 'drum.': 2, 'titinius': 8, 'soldiers;': 1, 'pindarus': 5, 'meeting': 1, 'distance.': 1, 'lucilius.': 13, 'stand.': 1, 'lucilius!': 2, 'near?': 1, 'salutation': 1, 'master.': 2, '[_pindarus': 3, 'greets': 1, 'master,': 2, 'change,': 2, 'ill': 5, 'officers,': 1, 'undone:': 1, 'pindarus.': 6, 'doubted.': 1, 'lucilius;': 1, 'received': 2, 'resolvâ€™d.': 1, 'courtesy': 1, 'familiar': 1, 'instances,': 1, 'friendly': 2, 'conference,': 1, 'usâ€™d': 1, 'old.': 1, 'describâ€™d': 1, 'cooling.': 1, 'note,': 1, 'sicken': 1, 'decay': 1, 'useth': 1, 'enforced': 1, 'ceremony.': 1, 'tricks': 1, 'simple': 1, 'faith;': 1, 'hollow': 1, 'gallant': 2, 'mettle;': 1, '[_low': 3, 'spur,': 2, 'crests,': 1, 'deceitful': 1, 'jades': 1, 'sink': 2, 'trial.': 1, 'army': 2, 'meant': 1, 'sardis': 2, 'quarterâ€™d;': 1, 'horse': 2, 'general,': 1, 'soldiers.': 1, 'hark!': 2, 'arrivâ€™d.': 1, 'gently': 1, 'stand!': 3, 'brother,': 1, 'judge': 1, 'gods;': 1, 'enemies?': 1, 'sober': 1, 'hides': 1, 'themâ€”': 1, 'softly,': 1, 'armies': 1, 'wrangle.': 1, 'away;': 1, 'enlarge': 1, 'audience.': 1, 'commanders': 2, 'charges': 1, 'ground.': 1, 'like;': 1, 'conference.': 1, 'guard': 1, 'door.': 1, 'condemnâ€™d': 2, 'noted': 1, 'pella': 1, 'taking': 1, 'bribes': 1, 'sardians;': 1, 'praying': 1, 'slighted': 1, 'case.': 1, 'nice': 1, 'comment.': 1, 'itching': 2, 'palm,': 1, 'sell': 2, 'mart': 1, 'offices': 1, 'gold': 2, 'undeservers.': 1, 'palm!': 1, 'corruption,': 1, 'chastisement': 1, 'chastisement!': 1, 'march,': 1, 'remember:': 1, 'justiceâ€™': 1, 'sake?': 1, 'villain': 1, 'justice?': 1, 'what!': 1, 'foremost': 1, 'supporting': 1, 'robbers,': 1, 'contaminate': 1, 'bribes,': 1, 'space': 1, 'large': 1, 'grasped': 1, 'thus?': 1, 'dog,': 1, 'bay': 1, 'moon,': 1, 'bait': 1, 'yourself,': 1, 'hedge': 1, 'soldier,': 3, 'older': 1, 'practice,': 1, 'abler': 1, 'conditions.': 1, 'to;': 1, 'am.': 1, 'myself;': 1, 'farther.': 1, 'possible?': 1, 'rash': 2, 'choler?': 1, 'frighted': 1, 'madman': 1, 'stares?': 1, 'gods!': 2, 'this?': 3, 'more:': 1, 'proud': 1, 'break;': 1, 'slaves': 1, 'choleric': 1, 'are,': 2, 'bondmen': 1, 'tremble.': 1, 'budge?': 1, 'crouch': 1, 'testy': 1, 'humour?': 1, 'venom': 1, 'spleen,': 1, 'split': 1, 'mirth,': 1, 'laughter,': 1, 'waspish.': 1, 'soldier:': 1, 'vaunting': 1, 'learn': 1, 'better:': 1, 'better?': 1, 'livâ€™d,': 1, 'tempted': 1, 'what?': 1, 'presume': 1, 'love.': 2, 'sorry': 2, 'terror,': 1, 'threats,': 1, 'armâ€™d': 1, 'honesty,': 1, 'sums': 1, 'denied': 4, 'raise': 2, 'money': 1, 'means:': 1, 'coin': 1, 'drachmas,': 1, 'wring': 1, 'peasants': 1, 'indirection.': 1, 'pay': 1, 'legions,': 1, 'grows': 1, 'covetous,': 1, 'lock': 1, 'rascal': 1, 'counters': 1, 'ready,': 1, 'thunderbolts,': 1, 'dash': 1, 'fool': 1, 'friendâ€™s': 1, 'infirmities;': 1, 'practise': 1, 'flattererâ€™s': 1, 'olympus.': 1, 'alone': 1, 'a-weary': 1, 'world:': 1, 'hated': 1, 'loves;': 1, 'bravâ€™d': 1, 'brother;': 1, 'checkâ€™d': 1, 'bondman;': 1, 'faults': 1, 'observâ€™d,': 1, 'note-book,': 1, 'learnâ€™d': 1, 'connâ€™d': 1, 'rote,': 1, 'teeth.': 2, 'eyes!': 1, 'dagger,': 1, 'naked': 1, 'breast;': 1, 'plutusâ€™': 1, 'mine,': 1, 'richer': 1, 'gold:': 1, 'roman,': 3, 'heart:': 1, 'strike': 1, 'hate': 1, 'worst,': 1, 'lovedst': 2, 'sheathe': 1, 'dagger.': 1, 'scope;': 1, 'dishonour': 1, 'humour.': 1, 'yoked': 1, 'lamb': 1, 'carries': 1, 'anger': 1, 'flint': 1, 'enforced,': 1, 'hasty': 1, 'spark,': 1, 'livâ€™d': 1, 'mirth': 1, 'laughter': 1, 'grief': 2, 'ill-temperâ€™d': 2, 'vexeth': 1, 'much?': 1, 'matter?': 2, 'mother': 3, 'forgetful?': 1, 'henceforth,': 1, 'over-earnest': 1, 'heâ€™ll': 1, 'chides,': 1, 'followed': 1, '[_within._]': 3, 'generals,': 1, 'grudge': 1, 'â€™em;': 1, 'now!': 1, 'shame,': 1, 'generals!': 1, 'mean?': 1, 'be;': 1, 'iâ€™m': 1, 'ye.': 1, 'ha,': 1, 'vilely': 1, 'cynic': 1, 'rhyme!': 1, 'sirrah.': 2, 'wars': 1, 'jigging': 1, 'fools?': 1, 'companion,': 1, 'poet._]': 1, 'lucilius': 4, 'lodge': 1, 'companies': 1, 'tonight.': 1, 'messala': 3, 'immediately': 1, 'titinius._]': 1, 'bowl': 2, 'wine.': 2, 'angry.': 1, 'griefs.': 1, 'philosophy': 2, 'accidental': 1, 'evils.': 1, 'better.': 2, 'dead.': 2, 'ha?': 1, 'portia?': 1, 'â€™scapâ€™d': 1, 'killing,': 1, 'insupportable': 1, 'touching': 1, 'loss!': 1, 'impatient': 1, 'absence,': 1, 'tidings': 3, 'came.': 1, 'distract,': 1, 'attendants': 1, 'absent,': 1, 'swallowâ€™d': 1, 'died': 3, 'taper.': 1, 'her.': 1, 'unkindness,': 1, '[_drinks._]': 2, 'thirsty': 1, 'pledge.': 1, 'fill,': 1, 'oâ€™erswell': 1, 'cup.': 1, 'drink': 1, 'messala.': 32, 'titinius!': 3, 'necessities.': 1, 'gone?': 1, 'power,': 2, 'bending': 1, 'expedition': 1, 'letters': 4, 'selfsame': 1, 'tenor.': 1, 'addition?': 1, 'proscription': 1, 'bills': 2, 'outlawry': 1, 'therein': 1, 'agree.': 1, 'seventy': 1, 'proscriptions,': 1, 'one!': 1, 'writ': 1, 'her?': 1, 'nothing,': 2, 'methinks,': 1, 'strange.': 1, 'true.': 2, 'tell,': 1, 'manner.': 1, 'meditating': 1, 'losses': 1, 'alive.': 1, 'marching': 2, 'philippi': 7, 'presently?': 1, 'reason?': 1, 'us;': 1, 'waste': 1, 'doing': 1, 'offence,': 1, 'lying': 1, 'defence,': 1, 'nimbleness.': 1, 'force': 1, 'â€™twixt': 1, 'ground': 1, 'forced': 1, 'affection;': 1, 'grudgâ€™d': 1, 'contribution.': 1, 'enemy,': 1, 'fuller': 1, 'refreshâ€™d,': 1, 'new-added,': 1, 'encouragâ€™d;': 1, 'brother.': 2, 'pardon.': 1, 'utmost': 1, 'legions': 3, 'brim-full,': 1, 'ripe.': 1, 'increaseth': 1, 'day;': 1, 'height,': 1, 'ready': 2, 'decline.': 1, 'omitted,': 1, 'voyage': 1, 'bound': 2, 'shallows': 1, 'miseries.': 1, 'afloat,': 1, 'current': 1, 'serves,': 1, 'ventures.': 1, 'on:': 1, 'deep': 1, 'crept': 1, 'obey': 1, 'necessity,': 1, 'niggard': 1, 'rest.': 2, 'night:': 1, 'rise,': 1, 'hence.': 1, 'gown.': 4, 'titinius.': 11, 'repose.': 1, 'brother!': 1, 'beginning': 1, 'division': 1, 'souls!': 1, 'everything': 2, 'messala._]': 2, 'instrument?': 1, 'tent.': 2, 'speakâ€™st': 1, 'drowsily?': 1, 'oâ€™er-watchâ€™d.': 1, 'claudius': 1, 'cushions': 1, 'varro': 2, 'claudius!': 4, 'claudius.': 5, 'varro.': 6, 'sirs,': 4, 'by-and-by': 1, 'watch': 1, 'otherwise': 1, 'bethink': 1, 'book': 1, 'sought': 1, 'pocket': 1, '[_servants': 1, 'lordship': 1, 'forgetful.': 1, 'canst': 2, 'heavy': 1, 'strain': 1, 'two?': 1, 'anâ€™t': 1, 'boy.': 1, 'willing.': 1, 'duty,': 1, 'duty': 1, 'past': 1, 'might;': 1, 'bloods': 1, 'slept,': 1, 'already.': 1, 'long.': 1, '[_lucius': 1, 'plays': 2, 'sings': 1, 'asleep._]': 1, 'sleepy': 1, 'tune.': 1, 'murdâ€™rous': 1, 'slumber,': 1, 'layest': 1, 'mace': 1, 'music?': 1, 'wake': 1, 'nod,': 1, 'breakâ€™st': 1, 'instrument;': 1, 'thee;': 1, 'see;': 1, 'leaf': 1, 'reading?': 1, 'think.': 1, 'burns!': 1, 'weakness': 1, 'shapes': 1, 'apparition.': 1, 'god,': 1, 'angel,': 1, 'devil,': 1, 'makâ€™st': 1, 'stare?': 1, 'art.': 1, 'ghost.': 4, 'comâ€™st': 2, 'again?': 2, '[_ghost': 1, 'vanishes._]': 1, 'vanishest.': 1, 'varro!': 1, 'awake!': 3, 'strings,': 1, 'false.': 1, 'instrument.': 1, 'dream,': 1, 'criedst': 1, 'out?': 1, 'cry.': 1, 'didst.': 1, 'sirrah': 1, 'sleep?': 1, 'powers': 2, 'betimes': 1, 'follow.': 2, 'army.': 2, 'hopes': 1, 'hills': 1, 'upper': 1, 'regions.': 1, 'proves': 1, 'battles': 2, 'warn': 1, 'answering': 1, 'tut,': 1, 'bosoms,': 1, 'content': 1, 'places,': 1, 'bravery,': 1, 'thinking': 1, 'fasten': 1, 'courage;': 1, 'messenger.': 2, 'generals.': 1, 'show;': 1, 'immediately.': 1, 'softly': 1, 'left.': 1, 'exigent?': 1, '[_march._]': 1, 'army;': 1, 'others.': 2, 'parley.': 1, 'fast,': 1, 'titinius;': 3, 'talk.': 1, 'battle?': 1, 'charge.': 1, 'generals': 1, 'words.': 2, 'until': 1, 'signal.': 1, 'blows:': 1, 'countrymen?': 1, 'better,': 1, 'strokes,': 2, 'words;': 1, 'witness': 2, 'hole': 1, 'crying,': 1, 'â€œlong': 1, 'posture': 1, 'blows': 1, 'unknown;': 1, 'rob': 1, 'hybla': 1, 'bees,': 1, 'honeyless.': 1, 'stingless': 1, 'soundless': 1, 'stolâ€™n': 1, 'buzzing,': 1, 'threat': 1, 'sting.': 1, 'hackâ€™d': 1, 'sides': 1, 'showâ€™d': 2, 'apes,': 1, 'fawnâ€™d': 1, 'hounds,': 1, 'bowâ€™d': 1, 'bondmen,': 1, 'kissing': 1, 'feet;': 1, 'damned': 1, 'cur,': 1, 'behind': 1, 'flatterers!': 2, 'yourself.': 1, 'offended': 1, 'rulâ€™d.': 1, 'cause.': 1, 'arguing': 1, 'sweat,': 1, 'redder': 1, 'thirty': 1, 'avengâ€™d;': 1, 'added': 1, 'slaughter': 1, 'unless': 1, 'bringâ€™st': 1, 'hope.': 1, 'sword.': 1, 'wert': 1, 'strain,': 1, 'couldst': 1, 'peevish': 1, 'school-boy,': 1, 'worthless': 1, 'joinâ€™d': 1, 'masker': 1, 'reveller.': 1, 'still!': 1, 'defiance,': 1, 'hurl': 1, 'field;': 1, 'stomachs.': 1, 'army._]': 1, 'blow': 1, 'billow,': 1, 'bark!': 1, 'storm': 1, 'hazard.': 1, 'ho,': 1, '[_brutus': 1, 'apart._]': 1, 'general?': 1, 'birth-day;': 1, 'born.': 1, 'messala:': 1, 'compellâ€™d': 1, 'liberties.': 1, 'epicurus': 1, 'strong,': 1, 'opinion.': 1, 'partly': 1, 'presage.': 1, 'coming': 1, 'former': 1, 'ensign': 2, 'eagles': 1, 'fell,': 1, 'perchâ€™d,': 1, 'gorging': 1, 'feeding': 1, 'soldiersâ€™': 1, 'consorted': 1, 'gone,': 1, 'steads': 1, 'ravens,': 1, 'crows,': 1, 'kites': 1, 'downward': 1, 'prey:': 1, 'shadows': 1, 'canopy': 1, 'fatal,': 1, 'lies,': 1, 'partly,': 1, 'constantly.': 1, 'friendly,': 1, 'lovers': 1, 'age!': 1, 'incertain,': 1, 'worst': 1, 'befall.': 1, 'battle,': 2, 'together:': 1, 'determined': 1, 'rule': 1, 'cato': 2, 'how,': 1, 'cowardly': 1, 'arming': 1, 'providence': 1, 'govern': 1, 'below.': 1, 'no:': 1, 'rome;': 1, 'mind.': 1, 'begun;': 1, 'everlasting': 1, 'take.': 1, 'ever,': 2, 'smile;': 1, 'parting': 2, 'indeed;': 1, 'dayâ€™s': 1, 'come!': 1, 'known.': 1, 'alarum.': 5, 'ride,': 5, 'side.': 1, '[_loud': 1, 'alarum._]': 1, 'once;': 2, 'demeanor': 1, 'octaviusâ€™': 2, 'wing,': 1, 'push': 2, 'overthrow.': 1, 'messala;': 1, 'villains': 1, 'fly!': 2, 'enemy:': 1, 'turning': 1, 'coward,': 1, 'early,': 1, 'eagerly:': 1, 'soldiers': 2, 'enclosâ€™d.': 1, 'off;': 1, 'tents,': 1, 'hill': 1, 'enough.': 2, 'tents': 1, 'fire?': 1, 'lovest': 1, 'mount': 1, 'spurs': 2, 'troops': 2, 'assurâ€™d': 1, 'enemy.': 2, 'thought.': 1, 'hill,': 1, 'sight': 1, 'notest': 1, 'breathed': 1, 'first.': 2, 'begin,': 1, 'end.': 1, 'compass.': 1, 'news?': 2, '[_above._]': 2, 'lord!': 2, 'enclosed': 1, 'round': 1, 'horsemen,': 1, 'light.': 1, 'lights': 1, 'taâ€™en!': 1, '[_shout._]': 1, 'shout': 1, 'joy.': 1, 'am,': 1, 'long,': 1, 'taâ€™en': 2, 'face!': 1, 'descends._]': 1, 'parthia': 1, 'prisoner;': 1, 'saving': 1, 'whatsoever': 1, 'attempt': 1, 'freeman;': 1, 'bowels,': 1, 'search': 1, 'bosom.': 1, 'answer.': 1, 'hilts;': 1, 'coverâ€™d,': 1, 'guide': 1, 'sword.â€”caesar,': 1, 'revengâ€™d,': 1, 'killâ€™d': 2, '[_dies._]': 2, 'free,': 1, 'been,': 1, 'cassius!': 2, 'overthrown': 1, 'disconsolate,': 1, 'bondman,': 1, 'hill.': 1, 'ground?': 1, 'living.': 1, 'heart!': 1, 'setting': 1, 'sun,': 1, 'rays': 1, 'set.': 2, 'gone;': 1, 'dews,': 1, 'mistrust': 2, 'success': 2, 'deed.': 2, 'hateful': 1, 'error,': 2, 'melancholyâ€™s': 1, 'child!': 1, 'conceivâ€™d,': 1, 'birth,': 1, 'killâ€™st': 1, 'engenderâ€™d': 1, 'pindarus!': 1, 'pindarus?': 1, 'thrusting': 2, 'report': 1, 'ears.': 1, 'piercing': 1, 'darts': 1, 'envenomed': 1, 'ears': 1, 'sight.': 1, 'while.': 1, 'friends?': 1, 'brows': 1, 'wreath': 1, 'victory,': 1, 'thee?': 2, 'shouts?': 1, 'misconstrued': 1, 'everything!': 1, 'garland': 1, 'brow;': 1, 'bidding.': 1, 'apace,': 1, 'regarded': 1, 'leave,': 1, 'gods.': 1, 'romanâ€™s': 1, 'titiniusâ€™': 2, 'volumnius': 1, 'where,': 2, 'lo,': 1, 'yonder,': 1, 'upward.': 1, 'cato.': 3, 'slain.': 2, 'yet!': 1, 'walks': 1, 'entrails.': 1, 'alarums._]': 2, 'living': 1, 'these?': 1, 'well!': 1, 'impossible': 1, 'fellow.': 1, 'owe': 1, 'pay.': 1, 'thassos': 1, 'funerals': 1, 'camp,': 1, 'discomfort': 1, 'cato;': 1, 'labeo': 1, 'oâ€™clock;': 1, 'try': 1, 'fight.': 1, 'fighting': 1, 'armies;': 1, 'flavius': 1, 'heads!': 1, 'bastard': 1, 'proclaim': 1, 'foe': 1, 'tyrants,': 1, 'countryâ€™s': 2, '[_charges': 1, 'enemy._]': 1, 'i;': 1, '[_exit,': 1, 'charging': 1, 'overpowered,': 1, 'falls._]': 1, 'down?': 1, 'diest': 1, 'bravely': 1, 'mayst': 1, 'honourâ€™d,': 1, 'son.': 1, 'yield,': 1, 'diest.': 1, 'die:': 1, 'straight;': 1, '[_offering': 1, 'money_]': 1, 'prisoner!': 1, 'room,': 1, 'taâ€™en.': 1, 'news.': 1, 'taâ€™en,': 2, 'safe,': 2, 'assure': 2, 'alive': 3, 'shame!': 1, 'prize': 1, 'worth.': 1, 'kindness.': 1, 'strato': 1, 'volumnius.': 6, 'remains': 1, 'rock.': 1, 'clitus.': 11, 'statilius': 1, 'torch-light;': 1, 'back:': 1, 'slaying': 1, 'word;': 1, 'hark': 2, '[_whispering._]': 1, 'dardanius.': 4, '[_whispers': 1, 'him._]': 1, 'deed?': 1, 'dardanius!': 1, 'clitus!': 1, 'request': 1, 'meditates.': 1, 'vessel': 1, 'runs': 2, 'volumnius;': 1, 'list': 1, 'volumnius:': 1, 'appearâ€™d': 1, 'fields.': 1, 'nay': 1, 'seest': 1, 'goes;': 1, 'beat': 1, 'pit.': 1, 'tarry': 1, 'school': 1, 'together;': 1, 'old,': 1, 'prâ€™ythee': 1, 'sword-hilts,': 1, 'office': 1, '[_alarums': 1, 'tarrying': 1, 'asleep;': 1, 'strato.â€”countrymen,': 1, 'joy,': 1, 'losing': 1, 'attain': 2, 'unto.': 1, 'ended': 1, 'lifeâ€™s': 1, 'history.': 1, 'hangs': 1, 'eyes;': 1, 'bones': 2, 'labourâ€™d': 1, 'hour.': 1, '[_alarums.': 1, 'â€œfly,': 1, 'fly!â€\\x9d._]': 1, 'dardanius': 1, 'volumnius._]': 1, 'respect;': 1, 'smatch': 1, 'strato?': 2, 'strato.': 4, 'strato.â€”caesar,': 1, 'still:': 1, 'dies._]': 1, 'retreat.': 1, 'masterâ€™s': 1, 'master?': 1, 'conquerors': 1, 'found.': 1, 'provâ€™d': 1, 'luciliusâ€™': 1, 'saying': 1, 'servâ€™d': 1, 'entertain': 1, 'latest': 1, 'service': 1, 'conspirators': 1, 'only,': 1, 'gentle,': 1, 'elements': 1, 'mixâ€™d': 1, 'â€œthis': 1, 'man!â€\\x9d': 1, 'rites': 1, 'lie,': 1, 'orderâ€™d': 1, 'honourably.': 1, 'glories': 1}\n"
          ],
          "name": "stdout"
        }
      ]
    },
    {
      "cell_type": "markdown",
      "metadata": {
        "id": "OiBla_3G3R8X"
      },
      "source": [
        "Now here is where the iterative nature of dictionaries can be used to our benefit. We sort the worddict, using the function `worddict.get` to provide the values, which are the counts."
      ]
    },
    {
      "cell_type": "code",
      "metadata": {
        "id": "xdsrP1p23R8X"
      },
      "source": [
        "topwords = sorted(worddict, key = worddict.get, reverse=True)"
      ],
      "execution_count": 7,
      "outputs": []
    },
    {
      "cell_type": "code",
      "metadata": {
        "id": "sPHHBWjh3R8Y",
        "outputId": "c77443c4-e630-412d-c656-508bc37c3478",
        "colab": {
          "base_uri": "https://localhost:8080/"
        }
      },
      "source": [
        "for word in topwords[:20]:\n",
        "    print(word, worddict[word])"
      ],
      "execution_count": 8,
      "outputs": [
        {
          "output_type": "stream",
          "text": [
            "the 629\n",
            "and 627\n",
            "i 499\n",
            "to 422\n",
            "of 374\n",
            "you 312\n",
            "a 275\n",
            "that 269\n",
            "is 236\n",
            "in 228\n",
            "brutus. 215\n",
            "not 207\n",
            "my 189\n",
            "he 185\n",
            "for 168\n",
            "his 157\n",
            "with 156\n",
            "it 153\n",
            "cassius. 150\n",
            "be 144\n"
          ],
          "name": "stdout"
        }
      ]
    },
    {
      "cell_type": "markdown",
      "metadata": {
        "id": "puHdPcvG3R8Y"
      },
      "source": [
        "You can even make a hacky histogram for this by creating a '#' for every 10 occurences"
      ]
    },
    {
      "cell_type": "code",
      "metadata": {
        "id": "xmHx1Zb83R8Y"
      },
      "source": [
        "for word in topwords[:20]:\n",
        "    print(word+(20 - len(word))*' ', (worddict[word]//10)*'*')"
      ],
      "execution_count": null,
      "outputs": []
    },
    {
      "cell_type": "markdown",
      "metadata": {
        "id": "ayIhPFOj3R8Z"
      },
      "source": [
        "## EXERCISE 2: Simulate a Bank Account"
      ]
    },
    {
      "cell_type": "code",
      "metadata": {
        "id": "zh-3-JD_3R8Z"
      },
      "source": [
        "class BankAccount:\n",
        "    def __init__(self, balance):\n",
        "        self.balance = balance\n",
        "        \n",
        "    def withdraw(self, amount):\n",
        "        self.balance = self.balance - amount"
      ],
      "execution_count": null,
      "outputs": []
    },
    {
      "cell_type": "code",
      "metadata": {
        "id": "zQjIp03Q3R8a"
      },
      "source": [
        "myaccount = BankAccount(100)\n",
        "print(myaccount.balance)\n",
        "myaccount.withdraw(20)\n",
        "myaccount.balance"
      ],
      "execution_count": null,
      "outputs": []
    },
    {
      "cell_type": "markdown",
      "metadata": {
        "id": "Sp3MILQA3R8a"
      },
      "source": [
        "Python supports inheritance. Indeed, in python, all classes inherit from object, which means that they all get some attributes and methods from object.\n",
        "\n",
        "What is inheritance, more precisely? In inheritance an object is based on another object. When inheritance is implemented, the methods and attributes that were defined in the base class will also be present in the inherited class. This is generally done to abstract away similar code in multiple classes. The abstracted code will reside in the base class and the previous classes will now inherit from the base class.\n",
        "\n",
        "Let's look at an example of inheritance. In the following example, Rocket is the base class and MarsRover is the inherited class. Notice the string interpolation in the formatting as well."
      ]
    },
    {
      "cell_type": "code",
      "metadata": {
        "id": "fo1GjhSp3R8b"
      },
      "source": [
        "class Rocket:\n",
        "    def __init__(self, name, distance):\n",
        "        self.name = name\n",
        "        self.distance = distance\n",
        "\n",
        "    def launch(self):\n",
        "        return \"%s has reached %s\" % (self.name, self.distance)\n",
        "    \n",
        "    def get_maker(self):\n",
        "        return \"%s Launched\" % self.name\n",
        "\n",
        "\n",
        "class MarsRover(Rocket): # inheriting from the base class\n",
        "    def __init__(self, name, distance, maker):\n",
        "        Rocket.__init__(self, name, distance)\n",
        "        self.maker = maker\n",
        "\n",
        "    def get_maker(self):\n",
        "        return \"%s Launched by %s\" % (self.name, self.maker)"
      ],
      "execution_count": null,
      "outputs": []
    },
    {
      "cell_type": "code",
      "metadata": {
        "id": "XL9Cw0db3R8b"
      },
      "source": [
        "x = Rocket(\"Simple rocket\", \"till stratosphere\")\n",
        "y = MarsRover(\"Mangalyaan\", \"till Mars\", \"ISRO\")\n",
        "print(x.launch())\n",
        "print(y.launch()) # dispatches to Ricket's launch\n",
        "print(x.get_maker())\n",
        "print(y.get_maker())"
      ],
      "execution_count": null,
      "outputs": []
    },
    {
      "cell_type": "markdown",
      "metadata": {
        "id": "1bbE7Vab3R8b"
      },
      "source": [
        "`launch` is not defined by the derived class `MarsRover` so the `launch` for instance `y` is used from `Rocket`. On the other hand, `MarsRover` defines a new `get_maker` so that overrides the one from `Rocket`. Thus inheritance can be used to share functionality when needed and diversify when not."
      ]
    },
    {
      "cell_type": "markdown",
      "metadata": {
        "id": "SUj2bq8H3R8c"
      },
      "source": [
        "Define an error checking bank account `ECBankAccount` which inherits from `BankAccount` but will not allow overdraws. If there is an overdraw raise a `ValueError` with a message \"Withdrawal Not Allowed\": read up on this. Create two accounts one regular and one he derived class instance and wihdraw more than the balance from both."
      ]
    },
    {
      "cell_type": "code",
      "metadata": {
        "id": "11XZVes13R8c"
      },
      "source": [
        "# youe code here\n",
        "class ECBankAccount:\n",
        "    def __init__(self, balance):\n",
        "        self.balance = balance\n",
        "        \n",
        "    def withdraw(self, amount):\n",
        "        check = self.balance - amount\n",
        "        if check >=0:\n",
        "            self.balance -= amount\n",
        "        else:\n",
        "            raise ValueError(\"Withdrawal Not Allowed\")"
      ],
      "execution_count": null,
      "outputs": []
    },
    {
      "cell_type": "code",
      "metadata": {
        "id": "ovhOFLnB3R8c"
      },
      "source": [
        "x = BankAccount(100)\n",
        "x.withdraw(120)\n",
        "x.balance"
      ],
      "execution_count": null,
      "outputs": []
    },
    {
      "cell_type": "code",
      "metadata": {
        "id": "bs1gFAIW3R8d"
      },
      "source": [
        "y = ECBankAccount(100)\n",
        "y.withdraw(120)"
      ],
      "execution_count": null,
      "outputs": []
    },
    {
      "cell_type": "code",
      "metadata": {
        "id": "VzylYlrI3R8d"
      },
      "source": [
        "y.balance"
      ],
      "execution_count": null,
      "outputs": []
    },
    {
      "cell_type": "code",
      "metadata": {
        "id": "eO2g8v6QH44N",
        "outputId": "8246fa5f-271f-49ab-f388-200dd603136b",
        "colab": {
          "base_uri": "https://localhost:8080/"
        }
      },
      "source": [
        "import this"
      ],
      "execution_count": 13,
      "outputs": [
        {
          "output_type": "stream",
          "text": [
            "The Zen of Python, by Tim Peters\n",
            "\n",
            "Beautiful is better than ugly.\n",
            "Explicit is better than implicit.\n",
            "Simple is better than complex.\n",
            "Complex is better than complicated.\n",
            "Flat is better than nested.\n",
            "Sparse is better than dense.\n",
            "Readability counts.\n",
            "Special cases aren't special enough to break the rules.\n",
            "Although practicality beats purity.\n",
            "Errors should never pass silently.\n",
            "Unless explicitly silenced.\n",
            "In the face of ambiguity, refuse the temptation to guess.\n",
            "There should be one-- and preferably only one --obvious way to do it.\n",
            "Although that way may not be obvious at first unless you're Dutch.\n",
            "Now is better than never.\n",
            "Although never is often better than *right* now.\n",
            "If the implementation is hard to explain, it's a bad idea.\n",
            "If the implementation is easy to explain, it may be a good idea.\n",
            "Namespaces are one honking great idea -- let's do more of those!\n"
          ],
          "name": "stdout"
        }
      ]
    },
    {
      "cell_type": "code",
      "metadata": {
        "id": "Tn2Uv-nMH7DX"
      },
      "source": [
        ""
      ],
      "execution_count": null,
      "outputs": []
    }
  ]
}